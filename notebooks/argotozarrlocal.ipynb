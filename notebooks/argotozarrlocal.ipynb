{
 "cells": [
  {
   "cell_type": "code",
   "execution_count": 1,
   "metadata": {},
   "outputs": [
    {
     "name": "stderr",
     "output_type": "stream",
     "text": [
      "/scratch1/mor582/miniconda3/envs/pyAODN/lib/python3.6/site-packages/dask/config.py:168: YAMLLoadWarning: calling yaml.load() without Loader=... is deprecated, as the default Loader is unsafe. Please read https://msg.pyyaml.org/load for full details.\n",
      "  data = yaml.load(f.read()) or {}\n",
      "/scratch1/mor582/miniconda3/envs/pyAODN/lib/python3.6/site-packages/distributed/config.py:20: YAMLLoadWarning: calling yaml.load() without Loader=... is deprecated, as the default Loader is unsafe. Please read https://msg.pyyaml.org/load for full details.\n",
      "  defaults = yaml.load(f)\n"
     ]
    }
   ],
   "source": [
    "import xarray as xr\n",
    "import os\n",
    "import glob\n",
    "import numpy as np\n",
    "import pandas as pd\n",
    "import dask.dataframe as dd\n",
    "from distributed import Client"
   ]
  },
  {
   "cell_type": "code",
   "execution_count": 2,
   "metadata": {},
   "outputs": [],
   "source": [
    "files = glob.glob('/scratch1/mor582/argo/**/*_prof.nc',recursive=True)"
   ]
  },
  {
   "cell_type": "code",
   "execution_count": 3,
   "metadata": {},
   "outputs": [
    {
     "data": {
      "text/plain": [
       "442"
      ]
     },
     "execution_count": 3,
     "metadata": {},
     "output_type": "execute_result"
    }
   ],
   "source": [
    "len(pd.DataFrame(files))"
   ]
  },
  {
   "cell_type": "code",
   "execution_count": 11,
   "metadata": {},
   "outputs": [
    {
     "data": {
      "text/html": [
       "<table style=\"border: 2px solid white;\">\n",
       "<tr>\n",
       "<td style=\"vertical-align: top; border: 0px solid white\">\n",
       "<h3>Client</h3>\n",
       "<ul>\n",
       "  <li><b>Scheduler: </b>tcp://127.0.0.1:32907\n",
       "  <li><b>Dashboard: </b><a href='http://127.0.0.1:8787/status' target='_blank'>http://127.0.0.1:8787/status</a>\n",
       "</ul>\n",
       "</td>\n",
       "<td style=\"vertical-align: top; border: 0px solid white\">\n",
       "<h3>Cluster</h3>\n",
       "<ul>\n",
       "  <li><b>Workers: </b>20</li>\n",
       "  <li><b>Cores: </b>20</li>\n",
       "  <li><b>Memory: </b>134.95 GB</li>\n",
       "</ul>\n",
       "</td>\n",
       "</tr>\n",
       "</table>"
      ],
      "text/plain": [
       "<Client: scheduler='tcp://127.0.0.1:32907' processes=20 cores=20>"
      ]
     },
     "execution_count": 11,
     "metadata": {},
     "output_type": "execute_result"
    }
   ],
   "source": [
    "client = Client()\n",
    "client"
   ]
  },
  {
   "cell_type": "code",
   "execution_count": 13,
   "metadata": {},
   "outputs": [],
   "source": [
    "client.close()"
   ]
  },
  {
   "cell_type": "code",
   "execution_count": 5,
   "metadata": {},
   "outputs": [],
   "source": [
    "from functools import partial\n",
    "\n",
    "def process_mf(dsinput,levels,template):\n",
    "    ds = xr.Dataset()\n",
    "    pad =np.ones((len(dsinput.N_PROF), levels-len( dsinput.N_LEVELS))) *np.nan\n",
    "    pading =xr.DataArray(pad,dims={'N_PROF','N_LEVELS'})\n",
    "    for varname, da in template.data_vars.items():\n",
    "        if 'N_LEVELS' in da.dims:   \n",
    "            if varname in dsinput.data_vars:\n",
    "                da = xr.concat([dsinput[varname],pading],dim='N_LEVELS')\n",
    "            else:\n",
    "                print(varname)\n",
    "                da = xr.DataArray(np.ones((len(dsinput.N_PROF), levels)) *np.nan, name=varname, dims=['N_PROF','N_LEVELS'])\n",
    "        elif varname in dsinput.data_vars:\n",
    "            da = dsinput[varname]\n",
    "        else:\n",
    "            da = xr.DataArray(np.ones(len(dsinput.N_PROF))*np.nan , name=varname, dims=['N_PROF'])\n",
    "            print(varname)\n",
    "        if not ('HISTORY' in varname) and ('N_CALIB' not in da.dims) and ('N_PARAM' not in da.dims):\n",
    "                ds[varname]= da\n",
    "    ds =ds.chunk({'N_PROF':1000,'N_LEVELS':1000})\n",
    "    return ds\n",
    "\n",
    "template =xr.open_dataset(files[10])    \n",
    "preproc = partial(process_mf,levels=2000,template=template)\n"
   ]
  },
  {
   "cell_type": "code",
   "execution_count": 6,
   "metadata": {},
   "outputs": [
    {
     "ename": "NameError",
     "evalue": "name 'afloat' is not defined",
     "output_type": "error",
     "traceback": [
      "\u001b[0;31m---------------------------------------------------------------------------\u001b[0m",
      "\u001b[0;31mNameError\u001b[0m                                 Traceback (most recent call last)",
      "\u001b[0;32m<ipython-input-6-cc408f9f7790>\u001b[0m in \u001b[0;36m<module>\u001b[0;34m\u001b[0m\n\u001b[0;32m----> 1\u001b[0;31m \u001b[0mfiles\u001b[0m \u001b[0;34m=\u001b[0m\u001b[0;34m[\u001b[0m\u001b[0mfs\u001b[0m\u001b[0;34m.\u001b[0m\u001b[0mopen\u001b[0m\u001b[0;34m(\u001b[0m\u001b[0mfile\u001b[0m\u001b[0;34m)\u001b[0m \u001b[0;32mfor\u001b[0m \u001b[0mfile\u001b[0m \u001b[0;32min\u001b[0m \u001b[0mafloat\u001b[0m\u001b[0;34m]\u001b[0m\u001b[0;34m\u001b[0m\u001b[0;34m\u001b[0m\u001b[0m\n\u001b[0m",
      "\u001b[0;31mNameError\u001b[0m: name 'afloat' is not defined"
     ]
    }
   ],
   "source": [
    "files =[fs.open(file) for file in afloat]"
   ]
  },
  {
   "cell_type": "code",
   "execution_count": 7,
   "metadata": {},
   "outputs": [],
   "source": [
    "ds1 = xr.open_mfdataset(files,preprocess=preproc,concat_dim='N_PROF',chunks={'N_PROF':1000,'N_LEVELS':1000})"
   ]
  },
  {
   "cell_type": "code",
   "execution_count": 8,
   "metadata": {},
   "outputs": [
    {
     "data": {
      "text/plain": [
       "<xarray.Dataset>\n",
       "Dimensions:                   (N_LEVELS: 2000, N_PROF: 96734)\n",
       "Dimensions without coordinates: N_LEVELS, N_PROF\n",
       "Data variables:\n",
       "    DATA_TYPE                 (N_PROF) object b'Argo profile    ' ... b'Argo profile    '\n",
       "    FORMAT_VERSION            (N_PROF) object b'3.1 ' b'3.1 ' ... b'3.1 '\n",
       "    HANDBOOK_VERSION          (N_PROF) object b'1.2 ' b'1.2 ' ... b'1.2 '\n",
       "    REFERENCE_DATE_TIME       (N_PROF) object b'19500101000000' ... b'19500101000000'\n",
       "    DATE_CREATION             (N_PROF) object b'20100226042203' ... b'20080816044514'\n",
       "    DATE_UPDATE               (N_PROF) object b'20191008065233' ... b'20191015120815'\n",
       "    PLATFORM_NUMBER           (N_PROF) object dask.array<shape=(96734,), chunksize=(352,)>\n",
       "    PROJECT_NAME              (N_PROF) object dask.array<shape=(96734,), chunksize=(352,)>\n",
       "    PI_NAME                   (N_PROF) object dask.array<shape=(96734,), chunksize=(352,)>\n",
       "    CYCLE_NUMBER              (N_PROF) float64 dask.array<shape=(96734,), chunksize=(352,)>\n",
       "    DIRECTION                 (N_PROF) object dask.array<shape=(96734,), chunksize=(352,)>\n",
       "    DATA_CENTRE               (N_PROF) object dask.array<shape=(96734,), chunksize=(352,)>\n",
       "    DC_REFERENCE              (N_PROF) object dask.array<shape=(96734,), chunksize=(352,)>\n",
       "    DATA_STATE_INDICATOR      (N_PROF) object dask.array<shape=(96734,), chunksize=(352,)>\n",
       "    DATA_MODE                 (N_PROF) object dask.array<shape=(96734,), chunksize=(352,)>\n",
       "    PLATFORM_TYPE             (N_PROF) object dask.array<shape=(96734,), chunksize=(352,)>\n",
       "    FLOAT_SERIAL_NO           (N_PROF) object dask.array<shape=(96734,), chunksize=(352,)>\n",
       "    FIRMWARE_VERSION          (N_PROF) object dask.array<shape=(96734,), chunksize=(352,)>\n",
       "    WMO_INST_TYPE             (N_PROF) object dask.array<shape=(96734,), chunksize=(352,)>\n",
       "    JULD                      (N_PROF) datetime64[ns] dask.array<shape=(96734,), chunksize=(352,)>\n",
       "    JULD_QC                   (N_PROF) object dask.array<shape=(96734,), chunksize=(352,)>\n",
       "    JULD_LOCATION             (N_PROF) datetime64[ns] dask.array<shape=(96734,), chunksize=(352,)>\n",
       "    LATITUDE                  (N_PROF) float64 dask.array<shape=(96734,), chunksize=(352,)>\n",
       "    LONGITUDE                 (N_PROF) float64 dask.array<shape=(96734,), chunksize=(352,)>\n",
       "    POSITION_QC               (N_PROF) object dask.array<shape=(96734,), chunksize=(352,)>\n",
       "    POSITIONING_SYSTEM        (N_PROF) object dask.array<shape=(96734,), chunksize=(352,)>\n",
       "    PROFILE_PRES_QC           (N_PROF) object dask.array<shape=(96734,), chunksize=(352,)>\n",
       "    PROFILE_TEMP_QC           (N_PROF) object dask.array<shape=(96734,), chunksize=(352,)>\n",
       "    PROFILE_PSAL_QC           (N_PROF) object dask.array<shape=(96734,), chunksize=(352,)>\n",
       "    VERTICAL_SAMPLING_SCHEME  (N_PROF) object dask.array<shape=(96734,), chunksize=(352,)>\n",
       "    CONFIG_MISSION_NUMBER     (N_PROF) float64 dask.array<shape=(96734,), chunksize=(352,)>\n",
       "    PRES                      (N_PROF, N_LEVELS) float64 dask.array<shape=(96734, 2000), chunksize=(352, 1000)>\n",
       "    PRES_QC                   (N_PROF, N_LEVELS) object dask.array<shape=(96734, 2000), chunksize=(352, 1000)>\n",
       "    PRES_ADJUSTED             (N_PROF, N_LEVELS) float64 dask.array<shape=(96734, 2000), chunksize=(352, 1000)>\n",
       "    PRES_ADJUSTED_QC          (N_PROF, N_LEVELS) object dask.array<shape=(96734, 2000), chunksize=(352, 1000)>\n",
       "    PRES_ADJUSTED_ERROR       (N_PROF, N_LEVELS) float64 dask.array<shape=(96734, 2000), chunksize=(352, 1000)>\n",
       "    TEMP                      (N_PROF, N_LEVELS) float64 dask.array<shape=(96734, 2000), chunksize=(352, 1000)>\n",
       "    TEMP_QC                   (N_PROF, N_LEVELS) object dask.array<shape=(96734, 2000), chunksize=(352, 1000)>\n",
       "    TEMP_ADJUSTED             (N_PROF, N_LEVELS) float64 dask.array<shape=(96734, 2000), chunksize=(352, 1000)>\n",
       "    TEMP_ADJUSTED_QC          (N_PROF, N_LEVELS) object dask.array<shape=(96734, 2000), chunksize=(352, 1000)>\n",
       "    TEMP_ADJUSTED_ERROR       (N_PROF, N_LEVELS) float64 dask.array<shape=(96734, 2000), chunksize=(352, 1000)>\n",
       "    PSAL                      (N_PROF, N_LEVELS) float64 dask.array<shape=(96734, 2000), chunksize=(352, 1000)>\n",
       "    PSAL_QC                   (N_PROF, N_LEVELS) object dask.array<shape=(96734, 2000), chunksize=(352, 1000)>\n",
       "    PSAL_ADJUSTED             (N_PROF, N_LEVELS) float64 dask.array<shape=(96734, 2000), chunksize=(352, 1000)>\n",
       "    PSAL_ADJUSTED_QC          (N_PROF, N_LEVELS) object dask.array<shape=(96734, 2000), chunksize=(352, 1000)>\n",
       "    PSAL_ADJUSTED_ERROR       (N_PROF, N_LEVELS) float64 dask.array<shape=(96734, 2000), chunksize=(352, 1000)>"
      ]
     },
     "execution_count": 8,
     "metadata": {},
     "output_type": "execute_result"
    }
   ],
   "source": [
    "ds1"
   ]
  },
  {
   "cell_type": "code",
   "execution_count": 9,
   "metadata": {},
   "outputs": [],
   "source": [
    "ds1 =ds1.chunk({'N_PROF':1000,'N_LEVELS':1000})"
   ]
  },
  {
   "cell_type": "code",
   "execution_count": 12,
   "metadata": {},
   "outputs": [
    {
     "name": "stderr",
     "output_type": "stream",
     "text": [
      "/scratch1/mor582/miniconda3/envs/pyAODN/lib/python3.6/site-packages/xarray/conventions.py:172: SerializationWarning: variable None has data in the form of a dask array with dtype=object, which means it is being loaded into memory to determine a data type that can be safely stored on disk. To avoid this, coerce this variable to a fixed-size dtype with astype() before saving it.\n",
      "  SerializationWarning)\n",
      "distributed.comm.tcp - WARNING - Closing dangling stream in <TCP local=tcp://127.0.0.1:40436 remote=tcp://127.0.0.1:32907>\n",
      "distributed.comm.tcp - WARNING - Closing dangling stream in <TCP local=tcp://127.0.0.1:40438 remote=tcp://127.0.0.1:32907>\n"
     ]
    },
    {
     "ename": "KeyboardInterrupt",
     "evalue": "",
     "output_type": "error",
     "traceback": [
      "\u001b[0;31m---------------------------------------------------------------------------\u001b[0m",
      "\u001b[0;31mKeyboardInterrupt\u001b[0m                         Traceback (most recent call last)",
      "\u001b[0;32m<ipython-input-12-8d39141b412d>\u001b[0m in \u001b[0;36m<module>\u001b[0;34m\u001b[0m\n\u001b[1;32m      5\u001b[0m \u001b[0mcompressor\u001b[0m \u001b[0;34m=\u001b[0m \u001b[0mzarr\u001b[0m\u001b[0;34m.\u001b[0m\u001b[0mBlosc\u001b[0m\u001b[0;34m(\u001b[0m\u001b[0mcname\u001b[0m\u001b[0;34m=\u001b[0m\u001b[0;34m'zstd'\u001b[0m\u001b[0;34m,\u001b[0m \u001b[0mclevel\u001b[0m\u001b[0;34m=\u001b[0m\u001b[0;36m3\u001b[0m\u001b[0;34m,\u001b[0m \u001b[0mshuffle\u001b[0m\u001b[0;34m=\u001b[0m\u001b[0;36m2\u001b[0m\u001b[0;34m)\u001b[0m\u001b[0;34m\u001b[0m\u001b[0;34m\u001b[0m\u001b[0m\n\u001b[1;32m      6\u001b[0m \u001b[0mencoding\u001b[0m \u001b[0;34m=\u001b[0m \u001b[0;34m{\u001b[0m\u001b[0mvname\u001b[0m\u001b[0;34m:\u001b[0m \u001b[0;34m{\u001b[0m\u001b[0;34m'compressor'\u001b[0m\u001b[0;34m:\u001b[0m \u001b[0mcompressor\u001b[0m\u001b[0;34m}\u001b[0m \u001b[0;32mfor\u001b[0m \u001b[0mvname\u001b[0m \u001b[0;32min\u001b[0m \u001b[0mds1\u001b[0m\u001b[0;34m.\u001b[0m\u001b[0mvariables\u001b[0m\u001b[0;34m}\u001b[0m\u001b[0;34m\u001b[0m\u001b[0;34m\u001b[0m\u001b[0m\n\u001b[0;32m----> 7\u001b[0;31m \u001b[0mds1\u001b[0m\u001b[0;34m.\u001b[0m\u001b[0mto_zarr\u001b[0m\u001b[0;34m(\u001b[0m\u001b[0mzarr_path\u001b[0m\u001b[0;34m,\u001b[0m\u001b[0mmode\u001b[0m\u001b[0;34m=\u001b[0m\u001b[0;34m'w'\u001b[0m\u001b[0;34m,\u001b[0m\u001b[0mencoding\u001b[0m\u001b[0;34m=\u001b[0m\u001b[0mencoding\u001b[0m\u001b[0;34m)\u001b[0m \u001b[0;31m#\u001b[0m\u001b[0;34m\u001b[0m\u001b[0;34m\u001b[0m\u001b[0m\n\u001b[0m",
      "\u001b[0;32m/scratch1/mor582/miniconda3/envs/pyAODN/lib/python3.6/site-packages/xarray/core/dataset.py\u001b[0m in \u001b[0;36mto_zarr\u001b[0;34m(self, store, mode, synchronizer, group, encoding, compute, consolidated)\u001b[0m\n\u001b[1;32m   1366\u001b[0m         return to_zarr(self, store=store, mode=mode, synchronizer=synchronizer,\n\u001b[1;32m   1367\u001b[0m                        \u001b[0mgroup\u001b[0m\u001b[0;34m=\u001b[0m\u001b[0mgroup\u001b[0m\u001b[0;34m,\u001b[0m \u001b[0mencoding\u001b[0m\u001b[0;34m=\u001b[0m\u001b[0mencoding\u001b[0m\u001b[0;34m,\u001b[0m \u001b[0mcompute\u001b[0m\u001b[0;34m=\u001b[0m\u001b[0mcompute\u001b[0m\u001b[0;34m,\u001b[0m\u001b[0;34m\u001b[0m\u001b[0;34m\u001b[0m\u001b[0m\n\u001b[0;32m-> 1368\u001b[0;31m                        consolidated=consolidated)\n\u001b[0m\u001b[1;32m   1369\u001b[0m \u001b[0;34m\u001b[0m\u001b[0m\n\u001b[1;32m   1370\u001b[0m     \u001b[0;32mdef\u001b[0m \u001b[0m__repr__\u001b[0m\u001b[0;34m(\u001b[0m\u001b[0mself\u001b[0m\u001b[0;34m)\u001b[0m\u001b[0;34m:\u001b[0m\u001b[0;34m\u001b[0m\u001b[0;34m\u001b[0m\u001b[0m\n",
      "\u001b[0;32m/scratch1/mor582/miniconda3/envs/pyAODN/lib/python3.6/site-packages/xarray/backends/api.py\u001b[0m in \u001b[0;36mto_zarr\u001b[0;34m(dataset, store, mode, synchronizer, group, encoding, compute, consolidated)\u001b[0m\n\u001b[1;32m    974\u001b[0m     \u001b[0mwriter\u001b[0m \u001b[0;34m=\u001b[0m \u001b[0mArrayWriter\u001b[0m\u001b[0;34m(\u001b[0m\u001b[0;34m)\u001b[0m\u001b[0;34m\u001b[0m\u001b[0;34m\u001b[0m\u001b[0m\n\u001b[1;32m    975\u001b[0m     \u001b[0;31m# TODO: figure out how to properly handle unlimited_dims\u001b[0m\u001b[0;34m\u001b[0m\u001b[0;34m\u001b[0m\u001b[0;34m\u001b[0m\u001b[0m\n\u001b[0;32m--> 976\u001b[0;31m     \u001b[0mdump_to_store\u001b[0m\u001b[0;34m(\u001b[0m\u001b[0mdataset\u001b[0m\u001b[0;34m,\u001b[0m \u001b[0mzstore\u001b[0m\u001b[0;34m,\u001b[0m \u001b[0mwriter\u001b[0m\u001b[0;34m,\u001b[0m \u001b[0mencoding\u001b[0m\u001b[0;34m=\u001b[0m\u001b[0mencoding\u001b[0m\u001b[0;34m)\u001b[0m\u001b[0;34m\u001b[0m\u001b[0;34m\u001b[0m\u001b[0m\n\u001b[0m\u001b[1;32m    977\u001b[0m     \u001b[0mwrites\u001b[0m \u001b[0;34m=\u001b[0m \u001b[0mwriter\u001b[0m\u001b[0;34m.\u001b[0m\u001b[0msync\u001b[0m\u001b[0;34m(\u001b[0m\u001b[0mcompute\u001b[0m\u001b[0;34m=\u001b[0m\u001b[0mcompute\u001b[0m\u001b[0;34m)\u001b[0m\u001b[0;34m\u001b[0m\u001b[0;34m\u001b[0m\u001b[0m\n\u001b[1;32m    978\u001b[0m \u001b[0;34m\u001b[0m\u001b[0m\n",
      "\u001b[0;32m/scratch1/mor582/miniconda3/envs/pyAODN/lib/python3.6/site-packages/xarray/backends/api.py\u001b[0m in \u001b[0;36mdump_to_store\u001b[0;34m(dataset, store, writer, encoder, encoding, unlimited_dims)\u001b[0m\n\u001b[1;32m    849\u001b[0m \u001b[0;34m\u001b[0m\u001b[0m\n\u001b[1;32m    850\u001b[0m     store.store(variables, attrs, check_encoding, writer,\n\u001b[0;32m--> 851\u001b[0;31m                 unlimited_dims=unlimited_dims)\n\u001b[0m\u001b[1;32m    852\u001b[0m \u001b[0;34m\u001b[0m\u001b[0m\n\u001b[1;32m    853\u001b[0m \u001b[0;34m\u001b[0m\u001b[0m\n",
      "\u001b[0;32m/scratch1/mor582/miniconda3/envs/pyAODN/lib/python3.6/site-packages/xarray/backends/zarr.py\u001b[0m in \u001b[0;36mstore\u001b[0;34m(self, variables, attributes, *args, **kwargs)\u001b[0m\n\u001b[1;32m    342\u001b[0m     \u001b[0;32mdef\u001b[0m \u001b[0mstore\u001b[0m\u001b[0;34m(\u001b[0m\u001b[0mself\u001b[0m\u001b[0;34m,\u001b[0m \u001b[0mvariables\u001b[0m\u001b[0;34m,\u001b[0m \u001b[0mattributes\u001b[0m\u001b[0;34m,\u001b[0m \u001b[0;34m*\u001b[0m\u001b[0margs\u001b[0m\u001b[0;34m,\u001b[0m \u001b[0;34m**\u001b[0m\u001b[0mkwargs\u001b[0m\u001b[0;34m)\u001b[0m\u001b[0;34m:\u001b[0m\u001b[0;34m\u001b[0m\u001b[0;34m\u001b[0m\u001b[0m\n\u001b[1;32m    343\u001b[0m         AbstractWritableDataStore.store(self, variables, attributes,\n\u001b[0;32m--> 344\u001b[0;31m                                         *args, **kwargs)\n\u001b[0m\u001b[1;32m    345\u001b[0m \u001b[0;34m\u001b[0m\u001b[0m\n\u001b[1;32m    346\u001b[0m     \u001b[0;32mdef\u001b[0m \u001b[0msync\u001b[0m\u001b[0;34m(\u001b[0m\u001b[0mself\u001b[0m\u001b[0;34m)\u001b[0m\u001b[0;34m:\u001b[0m\u001b[0;34m\u001b[0m\u001b[0;34m\u001b[0m\u001b[0m\n",
      "\u001b[0;32m/scratch1/mor582/miniconda3/envs/pyAODN/lib/python3.6/site-packages/xarray/backends/common.py\u001b[0m in \u001b[0;36mstore\u001b[0;34m(self, variables, attributes, check_encoding_set, writer, unlimited_dims)\u001b[0m\n\u001b[1;32m    258\u001b[0m             \u001b[0mwriter\u001b[0m \u001b[0;34m=\u001b[0m \u001b[0mArrayWriter\u001b[0m\u001b[0;34m(\u001b[0m\u001b[0;34m)\u001b[0m\u001b[0;34m\u001b[0m\u001b[0;34m\u001b[0m\u001b[0m\n\u001b[1;32m    259\u001b[0m \u001b[0;34m\u001b[0m\u001b[0m\n\u001b[0;32m--> 260\u001b[0;31m         \u001b[0mvariables\u001b[0m\u001b[0;34m,\u001b[0m \u001b[0mattributes\u001b[0m \u001b[0;34m=\u001b[0m \u001b[0mself\u001b[0m\u001b[0;34m.\u001b[0m\u001b[0mencode\u001b[0m\u001b[0;34m(\u001b[0m\u001b[0mvariables\u001b[0m\u001b[0;34m,\u001b[0m \u001b[0mattributes\u001b[0m\u001b[0;34m)\u001b[0m\u001b[0;34m\u001b[0m\u001b[0;34m\u001b[0m\u001b[0m\n\u001b[0m\u001b[1;32m    261\u001b[0m \u001b[0;34m\u001b[0m\u001b[0m\n\u001b[1;32m    262\u001b[0m         \u001b[0mself\u001b[0m\u001b[0;34m.\u001b[0m\u001b[0mset_attributes\u001b[0m\u001b[0;34m(\u001b[0m\u001b[0mattributes\u001b[0m\u001b[0;34m)\u001b[0m\u001b[0;34m\u001b[0m\u001b[0;34m\u001b[0m\u001b[0m\n",
      "\u001b[0;32m/scratch1/mor582/miniconda3/envs/pyAODN/lib/python3.6/site-packages/xarray/backends/common.py\u001b[0m in \u001b[0;36mencode\u001b[0;34m(self, variables, attributes)\u001b[0m\n\u001b[1;32m    202\u001b[0m         \"\"\"\n\u001b[1;32m    203\u001b[0m         variables = OrderedDict([(k, self.encode_variable(v))\n\u001b[0;32m--> 204\u001b[0;31m                                  for k, v in variables.items()])\n\u001b[0m\u001b[1;32m    205\u001b[0m         attributes = OrderedDict([(k, self.encode_attribute(v))\n\u001b[1;32m    206\u001b[0m                                   for k, v in attributes.items()])\n",
      "\u001b[0;32m/scratch1/mor582/miniconda3/envs/pyAODN/lib/python3.6/site-packages/xarray/backends/common.py\u001b[0m in \u001b[0;36m<listcomp>\u001b[0;34m(.0)\u001b[0m\n\u001b[1;32m    202\u001b[0m         \"\"\"\n\u001b[1;32m    203\u001b[0m         variables = OrderedDict([(k, self.encode_variable(v))\n\u001b[0;32m--> 204\u001b[0;31m                                  for k, v in variables.items()])\n\u001b[0m\u001b[1;32m    205\u001b[0m         attributes = OrderedDict([(k, self.encode_attribute(v))\n\u001b[1;32m    206\u001b[0m                                   for k, v in attributes.items()])\n",
      "\u001b[0;32m/scratch1/mor582/miniconda3/envs/pyAODN/lib/python3.6/site-packages/xarray/backends/zarr.py\u001b[0m in \u001b[0;36mencode_variable\u001b[0;34m(self, variable)\u001b[0m\n\u001b[1;32m    307\u001b[0m \u001b[0;34m\u001b[0m\u001b[0m\n\u001b[1;32m    308\u001b[0m     \u001b[0;32mdef\u001b[0m \u001b[0mencode_variable\u001b[0m\u001b[0;34m(\u001b[0m\u001b[0mself\u001b[0m\u001b[0;34m,\u001b[0m \u001b[0mvariable\u001b[0m\u001b[0;34m)\u001b[0m\u001b[0;34m:\u001b[0m\u001b[0;34m\u001b[0m\u001b[0;34m\u001b[0m\u001b[0m\n\u001b[0;32m--> 309\u001b[0;31m         \u001b[0mvariable\u001b[0m \u001b[0;34m=\u001b[0m \u001b[0mencode_zarr_variable\u001b[0m\u001b[0;34m(\u001b[0m\u001b[0mvariable\u001b[0m\u001b[0;34m)\u001b[0m\u001b[0;34m\u001b[0m\u001b[0;34m\u001b[0m\u001b[0m\n\u001b[0m\u001b[1;32m    310\u001b[0m         \u001b[0;32mreturn\u001b[0m \u001b[0mvariable\u001b[0m\u001b[0;34m\u001b[0m\u001b[0;34m\u001b[0m\u001b[0m\n\u001b[1;32m    311\u001b[0m \u001b[0;34m\u001b[0m\u001b[0m\n",
      "\u001b[0;32m/scratch1/mor582/miniconda3/envs/pyAODN/lib/python3.6/site-packages/xarray/backends/zarr.py\u001b[0m in \u001b[0;36mencode_zarr_variable\u001b[0;34m(var, needs_copy, name)\u001b[0m\n\u001b[1;32m    207\u001b[0m     \"\"\"\n\u001b[1;32m    208\u001b[0m \u001b[0;34m\u001b[0m\u001b[0m\n\u001b[0;32m--> 209\u001b[0;31m     \u001b[0mvar\u001b[0m \u001b[0;34m=\u001b[0m \u001b[0mconventions\u001b[0m\u001b[0;34m.\u001b[0m\u001b[0mencode_cf_variable\u001b[0m\u001b[0;34m(\u001b[0m\u001b[0mvar\u001b[0m\u001b[0;34m,\u001b[0m \u001b[0mname\u001b[0m\u001b[0;34m=\u001b[0m\u001b[0mname\u001b[0m\u001b[0;34m)\u001b[0m\u001b[0;34m\u001b[0m\u001b[0;34m\u001b[0m\u001b[0m\n\u001b[0m\u001b[1;32m    210\u001b[0m \u001b[0;34m\u001b[0m\u001b[0m\n\u001b[1;32m    211\u001b[0m     \u001b[0;31m# zarr allows unicode, but not variable-length strings, so it's both\u001b[0m\u001b[0;34m\u001b[0m\u001b[0;34m\u001b[0m\u001b[0;34m\u001b[0m\u001b[0m\n",
      "\u001b[0;32m/scratch1/mor582/miniconda3/envs/pyAODN/lib/python3.6/site-packages/xarray/conventions.py\u001b[0m in \u001b[0;36mencode_cf_variable\u001b[0;34m(var, needs_copy, name)\u001b[0m\n\u001b[1;32m    235\u001b[0m     \u001b[0mvar\u001b[0m \u001b[0;34m=\u001b[0m \u001b[0mmaybe_default_fill_value\u001b[0m\u001b[0;34m(\u001b[0m\u001b[0mvar\u001b[0m\u001b[0;34m)\u001b[0m\u001b[0;34m\u001b[0m\u001b[0;34m\u001b[0m\u001b[0m\n\u001b[1;32m    236\u001b[0m     \u001b[0mvar\u001b[0m \u001b[0;34m=\u001b[0m \u001b[0mmaybe_encode_bools\u001b[0m\u001b[0;34m(\u001b[0m\u001b[0mvar\u001b[0m\u001b[0;34m)\u001b[0m\u001b[0;34m\u001b[0m\u001b[0;34m\u001b[0m\u001b[0m\n\u001b[0;32m--> 237\u001b[0;31m     \u001b[0mvar\u001b[0m \u001b[0;34m=\u001b[0m \u001b[0mensure_dtype_not_object\u001b[0m\u001b[0;34m(\u001b[0m\u001b[0mvar\u001b[0m\u001b[0;34m,\u001b[0m \u001b[0mname\u001b[0m\u001b[0;34m=\u001b[0m\u001b[0mname\u001b[0m\u001b[0;34m)\u001b[0m\u001b[0;34m\u001b[0m\u001b[0;34m\u001b[0m\u001b[0m\n\u001b[0m\u001b[1;32m    238\u001b[0m     \u001b[0;32mreturn\u001b[0m \u001b[0mvar\u001b[0m\u001b[0;34m\u001b[0m\u001b[0;34m\u001b[0m\u001b[0m\n\u001b[1;32m    239\u001b[0m \u001b[0;34m\u001b[0m\u001b[0m\n",
      "\u001b[0;32m/scratch1/mor582/miniconda3/envs/pyAODN/lib/python3.6/site-packages/xarray/conventions.py\u001b[0m in \u001b[0;36mensure_dtype_not_object\u001b[0;34m(var, name)\u001b[0m\n\u001b[1;32m    171\u001b[0m                 \u001b[0;34m'with astype() before saving it.'\u001b[0m\u001b[0;34m.\u001b[0m\u001b[0mformat\u001b[0m\u001b[0;34m(\u001b[0m\u001b[0mname\u001b[0m\u001b[0;34m)\u001b[0m\u001b[0;34m,\u001b[0m\u001b[0;34m\u001b[0m\u001b[0;34m\u001b[0m\u001b[0m\n\u001b[1;32m    172\u001b[0m                 SerializationWarning)\n\u001b[0;32m--> 173\u001b[0;31m             \u001b[0mdata\u001b[0m \u001b[0;34m=\u001b[0m \u001b[0mdata\u001b[0m\u001b[0;34m.\u001b[0m\u001b[0mcompute\u001b[0m\u001b[0;34m(\u001b[0m\u001b[0;34m)\u001b[0m\u001b[0;34m\u001b[0m\u001b[0;34m\u001b[0m\u001b[0m\n\u001b[0m\u001b[1;32m    174\u001b[0m \u001b[0;34m\u001b[0m\u001b[0m\n\u001b[1;32m    175\u001b[0m         \u001b[0mmissing\u001b[0m \u001b[0;34m=\u001b[0m \u001b[0mpd\u001b[0m\u001b[0;34m.\u001b[0m\u001b[0misnull\u001b[0m\u001b[0;34m(\u001b[0m\u001b[0mdata\u001b[0m\u001b[0;34m)\u001b[0m\u001b[0;34m\u001b[0m\u001b[0;34m\u001b[0m\u001b[0m\n",
      "\u001b[0;32m/scratch1/mor582/miniconda3/envs/pyAODN/lib/python3.6/site-packages/dask/base.py\u001b[0m in \u001b[0;36mcompute\u001b[0;34m(self, **kwargs)\u001b[0m\n\u001b[1;32m    154\u001b[0m         \u001b[0mdask\u001b[0m\u001b[0;34m.\u001b[0m\u001b[0mbase\u001b[0m\u001b[0;34m.\u001b[0m\u001b[0mcompute\u001b[0m\u001b[0;34m\u001b[0m\u001b[0;34m\u001b[0m\u001b[0m\n\u001b[1;32m    155\u001b[0m         \"\"\"\n\u001b[0;32m--> 156\u001b[0;31m         \u001b[0;34m(\u001b[0m\u001b[0mresult\u001b[0m\u001b[0;34m,\u001b[0m\u001b[0;34m)\u001b[0m \u001b[0;34m=\u001b[0m \u001b[0mcompute\u001b[0m\u001b[0;34m(\u001b[0m\u001b[0mself\u001b[0m\u001b[0;34m,\u001b[0m \u001b[0mtraverse\u001b[0m\u001b[0;34m=\u001b[0m\u001b[0;32mFalse\u001b[0m\u001b[0;34m,\u001b[0m \u001b[0;34m**\u001b[0m\u001b[0mkwargs\u001b[0m\u001b[0;34m)\u001b[0m\u001b[0;34m\u001b[0m\u001b[0;34m\u001b[0m\u001b[0m\n\u001b[0m\u001b[1;32m    157\u001b[0m         \u001b[0;32mreturn\u001b[0m \u001b[0mresult\u001b[0m\u001b[0;34m\u001b[0m\u001b[0;34m\u001b[0m\u001b[0m\n\u001b[1;32m    158\u001b[0m \u001b[0;34m\u001b[0m\u001b[0m\n",
      "\u001b[0;32m/scratch1/mor582/miniconda3/envs/pyAODN/lib/python3.6/site-packages/dask/base.py\u001b[0m in \u001b[0;36mcompute\u001b[0;34m(*args, **kwargs)\u001b[0m\n\u001b[1;32m    397\u001b[0m     \u001b[0mpostcomputes\u001b[0m \u001b[0;34m=\u001b[0m \u001b[0;34m[\u001b[0m\u001b[0mx\u001b[0m\u001b[0;34m.\u001b[0m\u001b[0m__dask_postcompute__\u001b[0m\u001b[0;34m(\u001b[0m\u001b[0;34m)\u001b[0m \u001b[0;32mfor\u001b[0m \u001b[0mx\u001b[0m \u001b[0;32min\u001b[0m \u001b[0mcollections\u001b[0m\u001b[0;34m]\u001b[0m\u001b[0;34m\u001b[0m\u001b[0;34m\u001b[0m\u001b[0m\n\u001b[1;32m    398\u001b[0m     \u001b[0mresults\u001b[0m \u001b[0;34m=\u001b[0m \u001b[0mschedule\u001b[0m\u001b[0;34m(\u001b[0m\u001b[0mdsk\u001b[0m\u001b[0;34m,\u001b[0m \u001b[0mkeys\u001b[0m\u001b[0;34m,\u001b[0m \u001b[0;34m**\u001b[0m\u001b[0mkwargs\u001b[0m\u001b[0;34m)\u001b[0m\u001b[0;34m\u001b[0m\u001b[0;34m\u001b[0m\u001b[0m\n\u001b[0;32m--> 399\u001b[0;31m     \u001b[0;32mreturn\u001b[0m \u001b[0mrepack\u001b[0m\u001b[0;34m(\u001b[0m\u001b[0;34m[\u001b[0m\u001b[0mf\u001b[0m\u001b[0;34m(\u001b[0m\u001b[0mr\u001b[0m\u001b[0;34m,\u001b[0m \u001b[0;34m*\u001b[0m\u001b[0ma\u001b[0m\u001b[0;34m)\u001b[0m \u001b[0;32mfor\u001b[0m \u001b[0mr\u001b[0m\u001b[0;34m,\u001b[0m \u001b[0;34m(\u001b[0m\u001b[0mf\u001b[0m\u001b[0;34m,\u001b[0m \u001b[0ma\u001b[0m\u001b[0;34m)\u001b[0m \u001b[0;32min\u001b[0m \u001b[0mzip\u001b[0m\u001b[0;34m(\u001b[0m\u001b[0mresults\u001b[0m\u001b[0;34m,\u001b[0m \u001b[0mpostcomputes\u001b[0m\u001b[0;34m)\u001b[0m\u001b[0;34m]\u001b[0m\u001b[0;34m)\u001b[0m\u001b[0;34m\u001b[0m\u001b[0;34m\u001b[0m\u001b[0m\n\u001b[0m\u001b[1;32m    400\u001b[0m \u001b[0;34m\u001b[0m\u001b[0m\n\u001b[1;32m    401\u001b[0m \u001b[0;34m\u001b[0m\u001b[0m\n",
      "\u001b[0;32m/scratch1/mor582/miniconda3/envs/pyAODN/lib/python3.6/site-packages/dask/base.py\u001b[0m in \u001b[0;36m<listcomp>\u001b[0;34m(.0)\u001b[0m\n\u001b[1;32m    397\u001b[0m     \u001b[0mpostcomputes\u001b[0m \u001b[0;34m=\u001b[0m \u001b[0;34m[\u001b[0m\u001b[0mx\u001b[0m\u001b[0;34m.\u001b[0m\u001b[0m__dask_postcompute__\u001b[0m\u001b[0;34m(\u001b[0m\u001b[0;34m)\u001b[0m \u001b[0;32mfor\u001b[0m \u001b[0mx\u001b[0m \u001b[0;32min\u001b[0m \u001b[0mcollections\u001b[0m\u001b[0;34m]\u001b[0m\u001b[0;34m\u001b[0m\u001b[0;34m\u001b[0m\u001b[0m\n\u001b[1;32m    398\u001b[0m     \u001b[0mresults\u001b[0m \u001b[0;34m=\u001b[0m \u001b[0mschedule\u001b[0m\u001b[0;34m(\u001b[0m\u001b[0mdsk\u001b[0m\u001b[0;34m,\u001b[0m \u001b[0mkeys\u001b[0m\u001b[0;34m,\u001b[0m \u001b[0;34m**\u001b[0m\u001b[0mkwargs\u001b[0m\u001b[0;34m)\u001b[0m\u001b[0;34m\u001b[0m\u001b[0;34m\u001b[0m\u001b[0m\n\u001b[0;32m--> 399\u001b[0;31m     \u001b[0;32mreturn\u001b[0m \u001b[0mrepack\u001b[0m\u001b[0;34m(\u001b[0m\u001b[0;34m[\u001b[0m\u001b[0mf\u001b[0m\u001b[0;34m(\u001b[0m\u001b[0mr\u001b[0m\u001b[0;34m,\u001b[0m \u001b[0;34m*\u001b[0m\u001b[0ma\u001b[0m\u001b[0;34m)\u001b[0m \u001b[0;32mfor\u001b[0m \u001b[0mr\u001b[0m\u001b[0;34m,\u001b[0m \u001b[0;34m(\u001b[0m\u001b[0mf\u001b[0m\u001b[0;34m,\u001b[0m \u001b[0ma\u001b[0m\u001b[0;34m)\u001b[0m \u001b[0;32min\u001b[0m \u001b[0mzip\u001b[0m\u001b[0;34m(\u001b[0m\u001b[0mresults\u001b[0m\u001b[0;34m,\u001b[0m \u001b[0mpostcomputes\u001b[0m\u001b[0;34m)\u001b[0m\u001b[0;34m]\u001b[0m\u001b[0;34m)\u001b[0m\u001b[0;34m\u001b[0m\u001b[0;34m\u001b[0m\u001b[0m\n\u001b[0m\u001b[1;32m    400\u001b[0m \u001b[0;34m\u001b[0m\u001b[0m\n\u001b[1;32m    401\u001b[0m \u001b[0;34m\u001b[0m\u001b[0m\n",
      "\u001b[0;32m/scratch1/mor582/miniconda3/envs/pyAODN/lib/python3.6/site-packages/dask/array/core.py\u001b[0m in \u001b[0;36mfinalize\u001b[0;34m(results)\u001b[0m\n\u001b[1;32m    807\u001b[0m     \u001b[0;32mwhile\u001b[0m \u001b[0misinstance\u001b[0m\u001b[0;34m(\u001b[0m\u001b[0mresults2\u001b[0m\u001b[0;34m,\u001b[0m \u001b[0;34m(\u001b[0m\u001b[0mtuple\u001b[0m\u001b[0;34m,\u001b[0m \u001b[0mlist\u001b[0m\u001b[0;34m)\u001b[0m\u001b[0;34m)\u001b[0m\u001b[0;34m:\u001b[0m\u001b[0;34m\u001b[0m\u001b[0;34m\u001b[0m\u001b[0m\n\u001b[1;32m    808\u001b[0m         \u001b[0;32mif\u001b[0m \u001b[0mlen\u001b[0m\u001b[0;34m(\u001b[0m\u001b[0mresults2\u001b[0m\u001b[0;34m)\u001b[0m \u001b[0;34m>\u001b[0m \u001b[0;36m1\u001b[0m\u001b[0;34m:\u001b[0m\u001b[0;34m\u001b[0m\u001b[0;34m\u001b[0m\u001b[0m\n\u001b[0;32m--> 809\u001b[0;31m             \u001b[0;32mreturn\u001b[0m \u001b[0mconcatenate3\u001b[0m\u001b[0;34m(\u001b[0m\u001b[0mresults\u001b[0m\u001b[0;34m)\u001b[0m\u001b[0;34m\u001b[0m\u001b[0;34m\u001b[0m\u001b[0m\n\u001b[0m\u001b[1;32m    810\u001b[0m         \u001b[0;32melse\u001b[0m\u001b[0;34m:\u001b[0m\u001b[0;34m\u001b[0m\u001b[0;34m\u001b[0m\u001b[0m\n\u001b[1;32m    811\u001b[0m             \u001b[0mresults2\u001b[0m \u001b[0;34m=\u001b[0m \u001b[0mresults2\u001b[0m\u001b[0;34m[\u001b[0m\u001b[0;36m0\u001b[0m\u001b[0;34m]\u001b[0m\u001b[0;34m\u001b[0m\u001b[0;34m\u001b[0m\u001b[0m\n",
      "\u001b[0;32m/scratch1/mor582/miniconda3/envs/pyAODN/lib/python3.6/site-packages/dask/array/core.py\u001b[0m in \u001b[0;36mconcatenate3\u001b[0;34m(arrays)\u001b[0m\n\u001b[1;32m   3527\u001b[0m             \u001b[0;32mreturn\u001b[0m \u001b[0mtype\u001b[0m\u001b[0;34m(\u001b[0m\u001b[0mx\u001b[0m\u001b[0;34m)\u001b[0m\u001b[0;34m\u001b[0m\u001b[0;34m\u001b[0m\u001b[0m\n\u001b[1;32m   3528\u001b[0m \u001b[0;34m\u001b[0m\u001b[0m\n\u001b[0;32m-> 3529\u001b[0;31m     \u001b[0mresult\u001b[0m \u001b[0;34m=\u001b[0m \u001b[0mnp\u001b[0m\u001b[0;34m.\u001b[0m\u001b[0mempty\u001b[0m\u001b[0;34m(\u001b[0m\u001b[0mshape\u001b[0m\u001b[0;34m=\u001b[0m\u001b[0mshape\u001b[0m\u001b[0;34m,\u001b[0m \u001b[0mdtype\u001b[0m\u001b[0;34m=\u001b[0m\u001b[0mdtype\u001b[0m\u001b[0;34m(\u001b[0m\u001b[0mdeepfirst\u001b[0m\u001b[0;34m(\u001b[0m\u001b[0marrays\u001b[0m\u001b[0;34m)\u001b[0m\u001b[0;34m)\u001b[0m\u001b[0;34m)\u001b[0m\u001b[0;34m\u001b[0m\u001b[0;34m\u001b[0m\u001b[0m\n\u001b[0m\u001b[1;32m   3530\u001b[0m \u001b[0;34m\u001b[0m\u001b[0m\n\u001b[1;32m   3531\u001b[0m     \u001b[0;32mfor\u001b[0m \u001b[0;34m(\u001b[0m\u001b[0midx\u001b[0m\u001b[0;34m,\u001b[0m \u001b[0marr\u001b[0m\u001b[0;34m)\u001b[0m \u001b[0;32min\u001b[0m \u001b[0mzip\u001b[0m\u001b[0;34m(\u001b[0m\u001b[0mslices_from_chunks\u001b[0m\u001b[0;34m(\u001b[0m\u001b[0mchunks\u001b[0m\u001b[0;34m)\u001b[0m\u001b[0;34m,\u001b[0m \u001b[0mcore\u001b[0m\u001b[0;34m.\u001b[0m\u001b[0mflatten\u001b[0m\u001b[0;34m(\u001b[0m\u001b[0marrays\u001b[0m\u001b[0;34m)\u001b[0m\u001b[0;34m)\u001b[0m\u001b[0;34m:\u001b[0m\u001b[0;34m\u001b[0m\u001b[0;34m\u001b[0m\u001b[0m\n",
      "\u001b[0;31mKeyboardInterrupt\u001b[0m: "
     ]
    },
    {
     "name": "stderr",
     "output_type": "stream",
     "text": [
      "distributed.nanny - WARNING - Restarting worker\n",
      "distributed.nanny - WARNING - Restarting worker\n",
      "distributed.nanny - WARNING - Restarting worker\n",
      "distributed.nanny - WARNING - Restarting worker\n",
      "distributed.nanny - WARNING - Restarting worker\n",
      "distributed.nanny - WARNING - Restarting worker\n",
      "distributed.nanny - WARNING - Restarting worker\n",
      "distributed.nanny - WARNING - Restarting worker\n",
      "distributed.nanny - WARNING - Restarting worker\n",
      "distributed.nanny - WARNING - Restarting worker\n",
      "distributed.nanny - WARNING - Restarting worker\n",
      "distributed.nanny - WARNING - Restarting worker\n",
      "distributed.nanny - WARNING - Restarting worker\n",
      "distributed.nanny - WARNING - Restarting worker\n",
      "distributed.nanny - WARNING - Restarting worker\n",
      "distributed.nanny - WARNING - Restarting worker\n",
      "distributed.nanny - WARNING - Restarting worker\n",
      "distributed.nanny - WARNING - Restarting worker\n",
      "distributed.nanny - WARNING - Restarting worker\n",
      "distributed.nanny - WARNING - Restarting worker\n",
      "distributed.nanny - WARNING - Worker exceeded 95% memory budget. Restarting\n",
      "distributed.nanny - WARNING - Worker process 2256 was killed by unknown signal\n",
      "distributed.nanny - WARNING - Restarting worker\n"
     ]
    }
   ],
   "source": [
    "import zarr\n",
    "import os\n",
    "zarr_path =  '/scratch1/mor582/argo/csiro.zip' # MYSCRATCH is a Pawsey HPC environment variable\n",
    "\n",
    "compressor = zarr.Blosc(cname='zstd', clevel=3, shuffle=2)\n",
    "encoding = {vname: {'compressor': compressor} for vname in ds1.variables}\n",
    "ds1.to_zarr(zarr_path,mode='w',encoding=encoding) #"
   ]
  },
  {
   "cell_type": "code",
   "execution_count": 18,
   "metadata": {},
   "outputs": [
    {
     "name": "stdout",
     "output_type": "stream",
     "text": [
      "xarray.Dataset {\n",
      "dimensions:\n",
      "\tN_LEVELS = 2000 ;\n",
      "\tN_PROF = 11988 ;\n",
      "\n",
      "variables:\n",
      "\tfloat64 CONFIG_MISSION_NUMBER(N_PROF) ;\n",
      "\t\tCONFIG_MISSION_NUMBER:conventions = 1...N, 1 : first complete mission ;\n",
      "\t\tCONFIG_MISSION_NUMBER:long_name = Unique number denoting the missions performed by the float ;\n",
      "\tfloat64 CYCLE_NUMBER(N_PROF) ;\n",
      "\t\tCYCLE_NUMBER:conventions = 0...N, 0 : launch cycle (if exists), 1 : first complete cycle ;\n",
      "\t\tCYCLE_NUMBER:long_name = Float cycle number ;\n",
      "\t|S2 DATA_CENTRE(N_PROF) ;\n",
      "\t\tDATA_CENTRE:conventions = Argo reference table 4 ;\n",
      "\t\tDATA_CENTRE:long_name = Data centre in charge of float data processing ;\n",
      "\t|S1 DATA_MODE(N_PROF) ;\n",
      "\t\tDATA_MODE:conventions = R : real time; D : delayed mode; A : real time with adjustment ;\n",
      "\t\tDATA_MODE:long_name = Delayed mode or real time data ;\n",
      "\t|S4 DATA_STATE_INDICATOR(N_PROF) ;\n",
      "\t\tDATA_STATE_INDICATOR:conventions = Argo reference table 6 ;\n",
      "\t\tDATA_STATE_INDICATOR:long_name = Degree of processing the data have passed through ;\n",
      "\t|S16 DATA_TYPE(N_PROF) ;\n",
      "\t\tDATA_TYPE:conventions = Argo reference table 1 ;\n",
      "\t\tDATA_TYPE:long_name = Data type ;\n",
      "\t|S14 DATE_CREATION(N_PROF) ;\n",
      "\t\tDATE_CREATION:conventions = YYYYMMDDHHMISS ;\n",
      "\t\tDATE_CREATION:long_name = Date of file creation ;\n",
      "\t|S14 DATE_UPDATE(N_PROF) ;\n",
      "\t\tDATE_UPDATE:conventions = YYYYMMDDHHMISS ;\n",
      "\t\tDATE_UPDATE:long_name = Date of update of this file ;\n",
      "\t|S32 DC_REFERENCE(N_PROF) ;\n",
      "\t\tDC_REFERENCE:conventions = Data centre convention ;\n",
      "\t\tDC_REFERENCE:long_name = Station unique identifier in data centre ;\n",
      "\t|S1 DIRECTION(N_PROF) ;\n",
      "\t\tDIRECTION:conventions = A: ascending profiles, D: descending profiles ;\n",
      "\t\tDIRECTION:long_name = Direction of the station profiles ;\n",
      "\t|S32 FIRMWARE_VERSION(N_PROF) ;\n",
      "\t\tFIRMWARE_VERSION:long_name = Instrument firmware version ;\n",
      "\t|S32 FLOAT_SERIAL_NO(N_PROF) ;\n",
      "\t\tFLOAT_SERIAL_NO:long_name = Serial number of the float ;\n",
      "\t|S4 FORMAT_VERSION(N_PROF) ;\n",
      "\t\tFORMAT_VERSION:long_name = File format version ;\n",
      "\t|S4 HANDBOOK_VERSION(N_PROF) ;\n",
      "\t\tHANDBOOK_VERSION:long_name = Data handbook version ;\n",
      "\tdatetime64[ns] JULD(N_PROF) ;\n",
      "\t\tJULD:axis = T ;\n",
      "\t\tJULD:conventions = Relative julian days with decimal part (as parts of day) ;\n",
      "\t\tJULD:long_name = Julian day (UTC) of the station relative to REFERENCE_DATE_TIME ;\n",
      "\t\tJULD:resolution = 0.0 ;\n",
      "\t\tJULD:standard_name = time ;\n",
      "\tdatetime64[ns] JULD_LOCATION(N_PROF) ;\n",
      "\t\tJULD_LOCATION:conventions = Relative julian days with decimal part (as parts of day) ;\n",
      "\t\tJULD_LOCATION:long_name = Julian day (UTC) of the location relative to REFERENCE_DATE_TIME ;\n",
      "\t\tJULD_LOCATION:resolution = 0.0 ;\n",
      "\t|S1 JULD_QC(N_PROF) ;\n",
      "\t\tJULD_QC:conventions = Argo reference table 2 ;\n",
      "\t\tJULD_QC:long_name = Quality on date and time ;\n",
      "\tfloat64 LATITUDE(N_PROF) ;\n",
      "\t\tLATITUDE:axis = Y ;\n",
      "\t\tLATITUDE:long_name = Latitude of the station, best estimate ;\n",
      "\t\tLATITUDE:standard_name = latitude ;\n",
      "\t\tLATITUDE:units = degree_north ;\n",
      "\t\tLATITUDE:valid_max = 90.0 ;\n",
      "\t\tLATITUDE:valid_min = -90.0 ;\n",
      "\tfloat64 LONGITUDE(N_PROF) ;\n",
      "\t\tLONGITUDE:axis = X ;\n",
      "\t\tLONGITUDE:long_name = Longitude of the station, best estimate ;\n",
      "\t\tLONGITUDE:standard_name = longitude ;\n",
      "\t\tLONGITUDE:units = degree_east ;\n",
      "\t\tLONGITUDE:valid_max = 180.0 ;\n",
      "\t\tLONGITUDE:valid_min = -180.0 ;\n",
      "\t|S64 PI_NAME(N_PROF) ;\n",
      "\t\tPI_NAME:long_name = Name of the principal investigator ;\n",
      "\t|S8 PLATFORM_NUMBER(N_PROF) ;\n",
      "\t\tPLATFORM_NUMBER:conventions = WMO float identifier : A9IIIII ;\n",
      "\t\tPLATFORM_NUMBER:long_name = Float unique identifier ;\n",
      "\t|S32 PLATFORM_TYPE(N_PROF) ;\n",
      "\t\tPLATFORM_TYPE:conventions = Argo reference table 23 ;\n",
      "\t\tPLATFORM_TYPE:long_name = Type of float ;\n",
      "\t|S8 POSITIONING_SYSTEM(N_PROF) ;\n",
      "\t\tPOSITIONING_SYSTEM:long_name = Positioning system ;\n",
      "\t|S1 POSITION_QC(N_PROF) ;\n",
      "\t\tPOSITION_QC:conventions = Argo reference table 2 ;\n",
      "\t\tPOSITION_QC:long_name = Quality on position (latitude and longitude) ;\n",
      "\tfloat64 PRES(N_PROF, N_LEVELS) ;\n",
      "\tfloat64 PRES_ADJUSTED(N_PROF, N_LEVELS) ;\n",
      "\tfloat64 PRES_ADJUSTED_ERROR(N_PROF, N_LEVELS) ;\n",
      "\t|S1 PRES_ADJUSTED_QC(N_PROF, N_LEVELS) ;\n",
      "\t|S1 PRES_QC(N_PROF, N_LEVELS) ;\n",
      "\t|S1 PROFILE_PRES_QC(N_PROF) ;\n",
      "\t\tPROFILE_PRES_QC:conventions = Argo reference table 2a ;\n",
      "\t\tPROFILE_PRES_QC:long_name = Global quality flag of PRES profile ;\n",
      "\t|S1 PROFILE_PSAL_QC(N_PROF) ;\n",
      "\t\tPROFILE_PSAL_QC:conventions = Argo reference table 2a ;\n",
      "\t\tPROFILE_PSAL_QC:long_name = Global quality flag of PSAL profile ;\n",
      "\t|S1 PROFILE_TEMP_QC(N_PROF) ;\n",
      "\t\tPROFILE_TEMP_QC:conventions = Argo reference table 2a ;\n",
      "\t\tPROFILE_TEMP_QC:long_name = Global quality flag of TEMP profile ;\n",
      "\t|S64 PROJECT_NAME(N_PROF) ;\n",
      "\t\tPROJECT_NAME:long_name = Name of the project ;\n",
      "\tfloat64 PSAL(N_PROF, N_LEVELS) ;\n",
      "\tfloat64 PSAL_ADJUSTED(N_PROF, N_LEVELS) ;\n",
      "\tfloat64 PSAL_ADJUSTED_ERROR(N_PROF, N_LEVELS) ;\n",
      "\t|S1 PSAL_ADJUSTED_QC(N_PROF, N_LEVELS) ;\n",
      "\t|S1 PSAL_QC(N_PROF, N_LEVELS) ;\n",
      "\t|S14 REFERENCE_DATE_TIME(N_PROF) ;\n",
      "\t\tREFERENCE_DATE_TIME:conventions = YYYYMMDDHHMISS ;\n",
      "\t\tREFERENCE_DATE_TIME:long_name = Date of reference for Julian days ;\n",
      "\tfloat64 TEMP(N_PROF, N_LEVELS) ;\n",
      "\tfloat64 TEMP_ADJUSTED(N_PROF, N_LEVELS) ;\n",
      "\tfloat64 TEMP_ADJUSTED_ERROR(N_PROF, N_LEVELS) ;\n",
      "\t|S1 TEMP_ADJUSTED_QC(N_PROF, N_LEVELS) ;\n",
      "\t|S1 TEMP_QC(N_PROF, N_LEVELS) ;\n",
      "\t|S256 VERTICAL_SAMPLING_SCHEME(N_PROF) ;\n",
      "\t\tVERTICAL_SAMPLING_SCHEME:conventions = Argo reference table 16 ;\n",
      "\t\tVERTICAL_SAMPLING_SCHEME:long_name = Vertical sampling scheme ;\n",
      "\t|S4 WMO_INST_TYPE(N_PROF) ;\n",
      "\t\tWMO_INST_TYPE:conventions = Argo reference table 8 ;\n",
      "\t\tWMO_INST_TYPE:long_name = Coded instrument type ;\n",
      "\n",
      "// global attributes:\n",
      "}"
     ]
    }
   ],
   "source": [
    "ds1 = xr.open_zarr(zarr_path)\n",
    "ds1.info()"
   ]
  },
  {
   "cell_type": "code",
   "execution_count": null,
   "metadata": {},
   "outputs": [],
   "source": []
  }
 ],
 "metadata": {
  "kernelspec": {
   "display_name": "Python 3",
   "language": "python",
   "name": "python3"
  },
  "language_info": {
   "codemirror_mode": {
    "name": "ipython",
    "version": 3
   },
   "file_extension": ".py",
   "mimetype": "text/x-python",
   "name": "python",
   "nbconvert_exporter": "python",
   "pygments_lexer": "ipython3",
   "version": "3.6.7"
  }
 },
 "nbformat": 4,
 "nbformat_minor": 2
}
