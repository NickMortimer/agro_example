{
 "cells": [
  {
   "cell_type": "code",
   "execution_count": 1,
   "metadata": {},
   "outputs": [
    {
     "name": "stderr",
     "output_type": "stream",
     "text": [
      "/glade/u/home/mortimer/anaconda3/lib/python3.7/site-packages/dask/config.py:168: YAMLLoadWarning: calling yaml.load() without Loader=... is deprecated, as the default Loader is unsafe. Please read https://msg.pyyaml.org/load for full details.\n",
      "  data = yaml.load(f.read()) or {}\n",
      "/glade/u/home/mortimer/anaconda3/lib/python3.7/site-packages/distributed/config.py:20: YAMLLoadWarning: calling yaml.load() without Loader=... is deprecated, as the default Loader is unsafe. Please read https://msg.pyyaml.org/load for full details.\n",
      "  defaults = yaml.load(f)\n"
     ]
    }
   ],
   "source": [
    "import xarray as xr\n",
    "import os\n",
    "import glob\n",
    "import numpy as np\n",
    "import pandas as pd\n",
    "import dask.dataframe as dd\n",
    "from distributed import Client\n",
    "import dask"
   ]
  },
  {
   "cell_type": "markdown",
   "metadata": {},
   "source": [
    "https://github.com/pydata/xarray/pull/2706"
   ]
  },
  {
   "cell_type": "code",
   "execution_count": 3,
   "metadata": {},
   "outputs": [],
   "source": [
    "#only to be run when new files needed\n",
    "#files = glob.glob('/glade/scratch/mortimer/argo/**/*_prof.nc',recursive=True)\n",
    "#pd.DataFrame(files,columns=['files']).sort_values('files').to_csv('/glade/scratch/mortimer/argo/catalogue.csv',index=None)"
   ]
  },
  {
   "cell_type": "code",
   "execution_count": 2,
   "metadata": {},
   "outputs": [],
   "source": [
    "dffiles = pd.read_csv('/glade/scratch/mortimer/argo/catalogue.csv')\n",
    "files = list(dffiles.files)"
   ]
  },
  {
   "cell_type": "code",
   "execution_count": 51,
   "metadata": {},
   "outputs": [
    {
     "data": {
      "text/html": [
       "<table style=\"border: 2px solid white;\">\n",
       "<tr>\n",
       "<td style=\"vertical-align: top; border: 0px solid white\">\n",
       "<h3>Client</h3>\n",
       "<ul>\n",
       "  <li><b>Scheduler: </b>inproc://128.117.181.207/5589/18\n",
       "  <li><b>Dashboard: </b><a href='http://localhost:38907/status' target='_blank'>http://localhost:38907/status</a>\n",
       "</ul>\n",
       "</td>\n",
       "<td style=\"vertical-align: top; border: 0px solid white\">\n",
       "<h3>Cluster</h3>\n",
       "<ul>\n",
       "  <li><b>Workers: </b>1</li>\n",
       "  <li><b>Cores: </b>72</li>\n",
       "  <li><b>Memory: </b>269.89 GB</li>\n",
       "</ul>\n",
       "</td>\n",
       "</tr>\n",
       "</table>"
      ],
      "text/plain": [
       "<Client: scheduler='inproc://128.117.181.207/5589/18' processes=1 cores=72>"
      ]
     },
     "execution_count": 51,
     "metadata": {},
     "output_type": "execute_result"
    }
   ],
   "source": [
    "client = Client(processes=False)\n",
    "client"
   ]
  },
  {
   "cell_type": "code",
   "execution_count": 50,
   "metadata": {},
   "outputs": [],
   "source": [
    "client.close()"
   ]
  },
  {
   "cell_type": "code",
   "execution_count": 52,
   "metadata": {},
   "outputs": [],
   "source": [
    "from functools import partial\n",
    "\n",
    "data_types ={'CONFIG_MISSION_NUMBER':'float64','CYCLE_NUMBER':'float64','DATA_CENTRE':'|U2','DATA_MODE':'|U1',\n",
    "             'DATA_STATE_INDICATOR':'|U4','DC_REFERENCE':'|U32','DIRECTION':'|U1','FIRMWARE_VERSION':'|U32',\n",
    "             'FLOAT_SERIAL_NO':'|U32','JULD':'float64','JULD_LOCATION':'float64','JULD_QC':'|U1','LATITUDE':'float64',\n",
    "             'LONGITUDE':'float64','PI_NAME':'|U64','PLATFORM_NUMBER':'|U8','PLATFORM_TYPE':'|U32','POSITIONING_SYSTEM':'|U8',\n",
    "             'POSITION_QC':'|U1','PRES':'float64','PRES_ADJUSTED':'float64','PRES_ADJUSTED_ERROR':'float64',\n",
    "             'PRES_ADJUSTED_QC':'|U1','PRES_QC':'|U1','PROFILE_PRES_QC':'|U1','PROFILE_PSAL_QC':'|U1','PROFILE_TEMP_QC':'|U1',\n",
    "             'PROJECT_NAME':'|U64','PSAL':'float64','PSAL_ADJUSTED':'float64','PSAL_ADJUSTED_ERROR':'float64',\n",
    "             'PSAL_ADJUSTED_QC':'|U1','PSAL_QC':'|U1','TEMP':'float64','TEMP_ADJUSTED':'float64','TEMP_ADJUSTED_ERROR':'float64',\n",
    "             'TEMP_ADJUSTED_QC':'|U1','TEMP_QC':'|U1','VERTICAL_SAMPLING_SCHEME':'|U256','WMO_INST_TYPE':'|U4'}\n",
    "\n",
    "data_levels =['PRES','PRES_ADJUSTED','PRES_ADJUSTED_ERROR','PRES_ADJUSTED_QC','PRES_QC','PSAL','PSAL_ADJUSTED',\n",
    "              'PSAL_ADJUSTED_ERROR','PSAL_ADJUSTED_QC','PSAL_QC','TEMP','TEMP_ADJUSTED','TEMP_ADJUSTED_ERROR',\n",
    "              'TEMP_ADJUSTED_QC','TEMP_QC']\n",
    "\n",
    "def process_mf(dsinput,levels,data_types=data_types,data_levels=data_levels):\n",
    "    ds = xr.Dataset()\n",
    "    #pad =xr.DataArray(np.ones((levels-len( dsinput.N_LEVELS),len(dsinput.N_PROF))) *np.nan,dims={'N_LEVELS','N_PROF'})\n",
    "    #pad_qc = xr.DataArray(np.chararray((levels-len( dsinput.N_LEVELS),len(dsinput.N_PROF))),dims={'N_LEVELS','N_PROF'})\n",
    "    dims =('N_PROF','N_LEVELS')\n",
    "    pading =xr.DataArray(np.ones((len(dsinput.N_PROF),levels-len( dsinput.N_LEVELS))) *np.nan,dims=dims)\n",
    "    pad_qc = xr.DataArray(np.chararray((len(dsinput.N_PROF),levels-len( dsinput.N_LEVELS))),dims=dims)\n",
    "    pad_qc[:] = b' '\n",
    "    for varname in data_types.keys():\n",
    "        if varname in dsinput.data_vars:\n",
    "            da = dsinput[varname]\n",
    "            if 'N_LEVELS' in da.dims:   \n",
    "                if varname in dsinput.data_vars:\n",
    "                    if varname.endswith('QC'):\n",
    "                        da = xr.concat([dsinput[varname],pad_qc],dim='N_LEVELS').astype(data_types[varname])\n",
    "                    else:\n",
    "                        da = xr.concat([dsinput[varname],pading],dim='N_LEVELS').astype(data_types[varname])\n",
    "            else:\n",
    "                da = dsinput[varname].astype(data_types[varname])\n",
    "        else:\n",
    "            if varname in data_levels:\n",
    "                if data_types[varname]=='float64':\n",
    "                    da = xr.DataArray(np.ones((len(dsinput.N_PROF),levels))*np.nan , name=varname, dims=['N_PROF','N_LEVELS'])\n",
    "                else:\n",
    "                    p=np.chararray((len(dsinput.N_PROF),levels))\n",
    "                    p[:]=b'0'\n",
    "                    da = xr.DataArray(p.astype(data_types[varname]), name=varname, dims=['N_PROF','N_LEVELS'])\n",
    "            else:\n",
    "                if data_types[varname]=='float64':\n",
    "                    da = xr.DataArray(np.ones(len(dsinput.N_PROF))*np.nan , name=varname, dims=['N_PROF'])\n",
    "                else:\n",
    "                    p=np.chararray((len(dsinput.N_PROF)))\n",
    "                    p[:]=b'0'\n",
    "                    da = xr.DataArray(p.astype(data_types[varname]), name=varname, dims=['N_PROF'])\n",
    "        if not ('HISTORY' in varname) and ('N_CALIB' not in da.dims) and ('N_PARAM' not in da.dims) and  ('N_PROF' in da.dims):\n",
    "                ds[varname]= da\n",
    "    return ds\n",
    "   \n",
    "preproc = partial(process_mf,levels=3000)\n",
    "\n",
    "@dask.delayed\n",
    "def process_float(file):\n",
    "    data = preproc(xr.open_dataset(file))\n",
    "    data =data.chunk({'N_PROF':100,'N_LEVELS':3000})\n",
    "    return data\n"
   ]
  },
  {
   "cell_type": "markdown",
   "metadata": {},
   "source": [
    "# Set up the zar file"
   ]
  },
  {
   "cell_type": "code",
   "execution_count": 53,
   "metadata": {},
   "outputs": [
    {
     "data": {
      "text/plain": [
       "<xarray.backends.zarr.ZarrStore at 0x2ae118317a20>"
      ]
     },
     "execution_count": 53,
     "metadata": {},
     "output_type": "execute_result"
    }
   ],
   "source": [
    "\n",
    "import zarr\n",
    "import os\n",
    "from tqdm import tqdm_notebook\n",
    "import numcodecs\n",
    "numcodecs.blosc.use_threads = False\n",
    "#synchronizer = zarr.ProcessSynchronizer('../../argozarr/argodask1.sync')\n",
    "compressor = zarr.Blosc(cname='zstd', clevel=3, shuffle=2)\n",
    "zarr_path =  '../../argozarr/argo_dask.zarr'\n",
    "data =  preproc(xr.open_dataset(files[200]))\n",
    "data =data.chunk({'N_PROF':10000,'N_LEVELS':2000})\n",
    "encoding = {vname: {'compressor': compressor} for vname in data.variables}\n",
    "data.to_zarr(zarr_path,mode='w',encoding=encoding)\n",
    "\n",
    "\n"
   ]
  },
  {
   "cell_type": "code",
   "execution_count": 54,
   "metadata": {},
   "outputs": [
    {
     "name": "stdout",
     "output_type": "stream",
     "text": [
      "file opend\n"
     ]
    }
   ],
   "source": [
    "\n",
    "@dask.delayed\n",
    "def write_key(key,data,store):\n",
    "    store[key].append(data[key])\n",
    "\n",
    "\n",
    "d =[]\n",
    "\n",
    "for file in files[0:400]:\n",
    "    d.append(process_float(file))\n",
    "results = dask.compute(*d)\n",
    "print('file opend')\n",
    "t =xr.concat(results,dim='N_PROF')    \n",
    "t=t.chunk({'N_PROF':1000,'N_LEVELS':3000})\n",
    "\n",
    "   "
   ]
  },
  {
   "cell_type": "code",
   "execution_count": 55,
   "metadata": {},
   "outputs": [],
   "source": [
    "os.environ['BLOSC_NOLOCK'] = \"1\""
   ]
  },
  {
   "cell_type": "code",
   "execution_count": 56,
   "metadata": {},
   "outputs": [],
   "source": [
    "import zarr\n",
    "zarr_path =  '../../argozarr/argo_dask.zarr'\n",
    "import numcodecs\n",
    "numcodecs.blosc.use_threads = False\n",
    "synchronizer = zarr.ProcessSynchronizer('../../argozarr/argodask1.sync')\n",
    "compressor = zarr.Blosc(cname='zstd', clevel=3, shuffle=2)\n",
    "zarr_path =  '../../argozarr/argo_dask.zarr'\n",
    "encoding = {vname: {'compressor': compressor} for vname in t.variables}\n",
    "d =t.to_zarr(zarr_path,mode='a',synchronizer =synchronizer,compute=False,append_dim='N_PROF')"
   ]
  },
  {
   "cell_type": "code",
   "execution_count": 57,
   "metadata": {},
   "outputs": [
    {
     "name": "stdout",
     "output_type": "stream",
     "text": [
      "CPU times: user 3min 19s, sys: 1min 35s, total: 4min 54s\n",
      "Wall time: 2min 28s\n"
     ]
    }
   ],
   "source": [
    "%time d.compute()"
   ]
  },
  {
   "cell_type": "code",
   "execution_count": 45,
   "metadata": {},
   "outputs": [
    {
     "name": "stdout",
     "output_type": "stream",
     "text": [
      "xarray.Dataset {\n",
      "dimensions:\n",
      "\tN_LEVELS = 2000 ;\n",
      "\tN_PROF = 64470 ;\n",
      "\n",
      "variables:\n",
      "\tfloat64 CONFIG_MISSION_NUMBER(N_PROF) ;\n",
      "\tfloat64 CYCLE_NUMBER(N_PROF) ;\n",
      "\t<U2 DATA_CENTRE(N_PROF) ;\n",
      "\t<U1 DATA_MODE(N_PROF) ;\n",
      "\t<U4 DATA_STATE_INDICATOR(N_PROF) ;\n",
      "\t<U32 DC_REFERENCE(N_PROF) ;\n",
      "\t<U1 DIRECTION(N_PROF) ;\n",
      "\t<U32 FIRMWARE_VERSION(N_PROF) ;\n",
      "\t<U32 FLOAT_SERIAL_NO(N_PROF) ;\n",
      "\tfloat64 JULD(N_PROF) ;\n",
      "\tfloat64 JULD_LOCATION(N_PROF) ;\n",
      "\t<U1 JULD_QC(N_PROF) ;\n",
      "\tfloat64 LATITUDE(N_PROF) ;\n",
      "\tfloat64 LONGITUDE(N_PROF) ;\n",
      "\t<U64 PI_NAME(N_PROF) ;\n",
      "\t<U8 PLATFORM_NUMBER(N_PROF) ;\n",
      "\t<U32 PLATFORM_TYPE(N_PROF) ;\n",
      "\t<U8 POSITIONING_SYSTEM(N_PROF) ;\n",
      "\t<U1 POSITION_QC(N_PROF) ;\n",
      "\tfloat64 PRES(N_PROF, N_LEVELS) ;\n",
      "\tfloat64 PRES_ADJUSTED(N_PROF, N_LEVELS) ;\n",
      "\tfloat64 PRES_ADJUSTED_ERROR(N_PROF, N_LEVELS) ;\n",
      "\t<U1 PRES_ADJUSTED_QC(N_PROF, N_LEVELS) ;\n",
      "\t<U1 PRES_QC(N_PROF, N_LEVELS) ;\n",
      "\t<U1 PROFILE_PRES_QC(N_PROF) ;\n",
      "\t<U1 PROFILE_PSAL_QC(N_PROF) ;\n",
      "\t<U1 PROFILE_TEMP_QC(N_PROF) ;\n",
      "\t<U64 PROJECT_NAME(N_PROF) ;\n",
      "\tfloat64 PSAL(N_PROF, N_LEVELS) ;\n",
      "\tfloat64 PSAL_ADJUSTED(N_PROF, N_LEVELS) ;\n",
      "\tfloat64 PSAL_ADJUSTED_ERROR(N_PROF, N_LEVELS) ;\n",
      "\t<U1 PSAL_ADJUSTED_QC(N_PROF, N_LEVELS) ;\n",
      "\t<U1 PSAL_QC(N_PROF, N_LEVELS) ;\n",
      "\tfloat64 TEMP(N_PROF, N_LEVELS) ;\n",
      "\tfloat64 TEMP_ADJUSTED(N_PROF, N_LEVELS) ;\n",
      "\tfloat64 TEMP_ADJUSTED_ERROR(N_PROF, N_LEVELS) ;\n",
      "\t<U1 TEMP_ADJUSTED_QC(N_PROF, N_LEVELS) ;\n",
      "\t<U1 TEMP_QC(N_PROF, N_LEVELS) ;\n",
      "\t<U256 VERTICAL_SAMPLING_SCHEME(N_PROF) ;\n",
      "\t<U4 WMO_INST_TYPE(N_PROF) ;\n",
      "\n",
      "// global attributes:\n",
      "}"
     ]
    }
   ],
   "source": [
    "\n",
    "\n",
    "ds1 = xr.open_zarr(zarr_path)\n",
    "ds1.info()"
   ]
  },
  {
   "cell_type": "code",
   "execution_count": null,
   "metadata": {},
   "outputs": [],
   "source": []
  }
 ],
 "metadata": {
  "kernelspec": {
   "display_name": "Python 3",
   "language": "python",
   "name": "python3"
  },
  "language_info": {
   "codemirror_mode": {
    "name": "ipython",
    "version": 3
   },
   "file_extension": ".py",
   "mimetype": "text/x-python",
   "name": "python",
   "nbconvert_exporter": "python",
   "pygments_lexer": "ipython3",
   "version": "3.6.7"
  }
 },
 "nbformat": 4,
 "nbformat_minor": 2
}
