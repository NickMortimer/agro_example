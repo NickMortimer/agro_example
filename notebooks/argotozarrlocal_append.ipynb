{
 "cells": [
  {
   "cell_type": "code",
   "execution_count": 1,
   "metadata": {},
   "outputs": [
    {
     "name": "stderr",
     "output_type": "stream",
     "text": [
      "/glade/u/home/mortimer/anaconda3/lib/python3.7/site-packages/dask/config.py:168: YAMLLoadWarning: calling yaml.load() without Loader=... is deprecated, as the default Loader is unsafe. Please read https://msg.pyyaml.org/load for full details.\n",
      "  data = yaml.load(f.read()) or {}\n",
      "/glade/u/home/mortimer/anaconda3/lib/python3.7/site-packages/distributed/config.py:20: YAMLLoadWarning: calling yaml.load() without Loader=... is deprecated, as the default Loader is unsafe. Please read https://msg.pyyaml.org/load for full details.\n",
      "  defaults = yaml.load(f)\n"
     ]
    }
   ],
   "source": [
    "import xarray as xr\n",
    "import os\n",
    "import glob\n",
    "import numpy as np\n",
    "import pandas as pd\n",
    "import dask.dataframe as dd\n",
    "from distributed import Client"
   ]
  },
  {
   "cell_type": "markdown",
   "metadata": {},
   "source": [
    "https://github.com/pydata/xarray/pull/2706"
   ]
  },
  {
   "cell_type": "code",
   "execution_count": 19,
   "metadata": {},
   "outputs": [],
   "source": [
    "files = glob.glob('../../argo/**/*_prof.nc',recursive=True)"
   ]
  },
  {
   "cell_type": "code",
   "execution_count": 20,
   "metadata": {},
   "outputs": [],
   "source": [
    "pd.DataFrame(files,columns=['files']).sort_values('files').to_csv('../../argo/catalogue.csv',index=None)"
   ]
  },
  {
   "cell_type": "code",
   "execution_count": 21,
   "metadata": {},
   "outputs": [],
   "source": [
    "dffiles = pd.read_csv('../../argo/catalogue.csv')"
   ]
  },
  {
   "cell_type": "code",
   "execution_count": 23,
   "metadata": {},
   "outputs": [],
   "source": [
    "files = list(dffiles.files)\n"
   ]
  },
  {
   "cell_type": "code",
   "execution_count": 4,
   "metadata": {},
   "outputs": [
    {
     "data": {
      "text/html": [
       "<table style=\"border: 2px solid white;\">\n",
       "<tr>\n",
       "<td style=\"vertical-align: top; border: 0px solid white\">\n",
       "<h3>Client</h3>\n",
       "<ul>\n",
       "  <li><b>Scheduler: </b>tcp://127.0.0.1:47688\n",
       "  <li><b>Dashboard: </b><a href='http://127.0.0.1:8787/status' target='_blank'>http://127.0.0.1:8787/status</a>\n",
       "</ul>\n",
       "</td>\n",
       "<td style=\"vertical-align: top; border: 0px solid white\">\n",
       "<h3>Cluster</h3>\n",
       "<ul>\n",
       "  <li><b>Workers: </b>9</li>\n",
       "  <li><b>Cores: </b>72</li>\n",
       "  <li><b>Memory: </b>270.64 GB</li>\n",
       "</ul>\n",
       "</td>\n",
       "</tr>\n",
       "</table>"
      ],
      "text/plain": [
       "<Client: scheduler='tcp://127.0.0.1:47688' processes=9 cores=72>"
      ]
     },
     "execution_count": 4,
     "metadata": {},
     "output_type": "execute_result"
    }
   ],
   "source": [
    "claient = Client()\n",
    "client"
   ]
  },
  {
   "cell_type": "code",
   "execution_count": 155,
   "metadata": {},
   "outputs": [],
   "source": [
    "from functools import partial\n",
    "\n",
    "data_types ={'CONFIG_MISSION_NUMBER':'float64','CYCLE_NUMBER':'float64','DATA_CENTRE':'|S2','DATA_MODE':'|S1',\n",
    "             'DATA_STATE_INDICATOR':'|S4','DC_REFERENCE':'|S32','DIRECTION':'|S1','FIRMWARE_VERSION':'|S32',\n",
    "             'FLOAT_SERIAL_NO':'|S32','JULD':'float64','JULD_LOCATION':'float64','JULD_QC':'|S1','LATITUDE':'float64',\n",
    "             'LONGITUDE':'float64','PI_NAME':'|S64','PLATFORM_NUMBER':'|S8','PLATFORM_TYPE':'|S32','POSITIONING_SYSTEM':'|S8',\n",
    "             'POSITION_QC':'|S1','PRES':'float64','PRES_ADJUSTED':'float64','PRES_ADJUSTED_ERROR':'float64',\n",
    "             'PRES_ADJUSTED_QC':'|S1','PRES_QC':'|S1','PROFILE_PRES_QC':'|S1','PROFILE_PSAL_QC':'|S1','PROFILE_TEMP_QC':'|S1',\n",
    "             'PROJECT_NAME':'|S64','PSAL':'float64','PSAL_ADJUSTED':'float64','PSAL_ADJUSTED_ERROR':'float64',\n",
    "             'PSAL_ADJUSTED_QC':'|S1','PSAL_QC':'|S1','TEMP':'float64','TEMP_ADJUSTED':'float64','TEMP_ADJUSTED_ERROR':'float64',\n",
    "             'TEMP_ADJUSTED_QC':'|S1','TEMP_QC':'|S1','VERTICAL_SAMPLING_SCHEME':'|S256','WMO_INST_TYPE':'|S4'}\n",
    "def process_mf(dsinput,levels,data_types=data_types):\n",
    "    ds = xr.Dataset()\n",
    "    pad =xr.DataArray(np.ones((len(dsinput.N_PROF),levels-len( dsinput.N_LEVELS))) *np.nan,dims={'N_PROF','N_LEVELS'})\n",
    "    pad_qc = xr.DataArray(np.chararray((len(dsinput.N_PROF),levels-len( dsinput.N_LEVELS))),dims={'N_PROF','N_LEVELS'})\n",
    "    pad_qc[:] = b'0'\n",
    "    pading =xr.DataArray(pad,dims={'N_PROF','N_LEVELS'})\n",
    "    for varname in data_types.keys():\n",
    "        if varname in dsinput.data_vars:\n",
    "            da = dsinput[varname]\n",
    "            if 'N_LEVELS' in da.dims:   \n",
    "                if varname in dsinput.data_vars:\n",
    "                    if varname.endswith('QC'):\n",
    "                        da = xr.concat([dsinput[varname],pad_qc],dim='N_LEVELS').astype(data_types[varname])\n",
    "                    else:\n",
    "                        da = xr.concat([dsinput[varname],pading],dim='N_LEVELS').astype(data_types[varname])\n",
    "            else:\n",
    "                da = dsinput[varname].astype(data_types[varname])\n",
    "        else:\n",
    "            if data_types[varname]=='float64':\n",
    "                da = xr.DataArray(np.ones(len(dsinput.N_PROF))*np.nan , name=varname, dims=['N_PROF'])\n",
    "            else:\n",
    "                da = xr.DataArray(np.chararray((len(dsinput.N_PROF))), name=varname, dims=['N_PROF'])\n",
    "        if not ('HISTORY' in varname) and ('N_CALIB' not in da.dims) and ('N_PARAM' not in da.dims) and  ('N_PROF' in da.dims):\n",
    "                ds[varname]= da\n",
    "    return ds\n",
    "\n",
    "template =xr.open_dataset(files[200])    \n",
    "preproc = partial(process_mf,levels=2000)\n"
   ]
  },
  {
   "cell_type": "code",
   "execution_count": 161,
   "metadata": {},
   "outputs": [
    {
     "name": "stdout",
     "output_type": "stream",
     "text": [
      "CPU times: user 1min 3s, sys: 9.28 s, total: 1min 12s\n",
      "Wall time: 1min 6s\n"
     ]
    }
   ],
   "source": [
    "%%time\n",
    "import zarr\n",
    "import os\n",
    "data =  preproc(xr.open_dataset(files[200]))\n",
    "data =data.chunk({'N_PROF':10000,'N_LEVELS':2000})\n",
    "\n",
    "zarr_path =  '../../argozarr/argo.zarr' \n",
    "compressor = zarr.Blosc(cname='zstd', clevel=3, shuffle=2)\n",
    "encoding = {vname: {'compressor': compressor} for vname in data.variables}\n",
    "data.to_zarr(zarr_path,mode='w',encoding=encoding)\n",
    "\n",
    "zarr_dst = zarr.open(zarr_path, mode='a')\n",
    "for file in files[100:150]:\n",
    "    data =  preproc(xr.open_dataset(file))\n",
    "    data =data.chunk({'N_PROF':100,'N_LEVELS':1000})\n",
    "    zarr_path_temp =  '../../argo_temp/argo.zarr' \n",
    "    compressor = zarr.Blosc(cname='zstd', clevel=3, shuffle=2)\n",
    "    encoding = {vname: {'compressor': compressor} for vname in data.variables}\n",
    "    data.to_zarr(zarr_path_temp,mode='w',encoding=encoding)\n",
    "    zarr_src = zarr.open(zarr_path_temp, mode='r')\n",
    "    for key in [k for k in zarr_src.array_keys()]:\n",
    "        zarr_dst[key].append(zarr_src[key])\n"
   ]
  },
  {
   "cell_type": "code",
   "execution_count": 163,
   "metadata": {},
   "outputs": [
    {
     "name": "stdout",
     "output_type": "stream",
     "text": [
      "CPU times: user 1min 49s, sys: 4.87 s, total: 1min 54s\n",
      "Wall time: 1min 48s\n"
     ]
    }
   ],
   "source": [
    "%%time\n",
    "data =xr.open_mfdataset(files[:150],preprocess=preproc,concat_dim='N_PROF',chunks={'N_PROF':1000,'N_LEVELS':1000})\n",
    "data =data.chunk({'N_PROF':10000,'N_LEVELS':2000})\n",
    "data.to_zarr(zarr_path,mode='w')"
   ]
  },
  {
   "cell_type": "code",
   "execution_count": 140,
   "metadata": {},
   "outputs": [],
   "source": [
    "data =data.chunk({'N_PROF':100,'N_LEVELS':1000})\n"
   ]
  },
  {
   "cell_type": "code",
   "execution_count": 143,
   "metadata": {},
   "outputs": [],
   "source": [
    "zarr_path = '../../mfzarr/argo.zarr'"
   ]
  },
  {
   "cell_type": "code",
   "execution_count": 144,
   "metadata": {},
   "outputs": [
    {
     "name": "stderr",
     "output_type": "stream",
     "text": [
      "/glade/u/home/mortimer/anaconda3/lib/python3.7/site-packages/xarray/conventions.py:172: SerializationWarning: variable None has data in the form of a dask array with dtype=object, which means it is being loaded into memory to determine a data type that can be safely stored on disk. To avoid this, coerce this variable to a fixed-size dtype with astype() before saving it.\n",
      "  SerializationWarning)\n"
     ]
    },
    {
     "data": {
      "text/plain": [
       "<xarray.backends.zarr.ZarrStore at 0x7fff0c09f9e8>"
      ]
     },
     "execution_count": 144,
     "metadata": {},
     "output_type": "execute_result"
    }
   ],
   "source": [
    "data.to_zarr(zarr_path)"
   ]
  },
  {
   "cell_type": "code",
   "execution_count": 165,
   "metadata": {},
   "outputs": [
    {
     "name": "stdout",
     "output_type": "stream",
     "text": [
      "CPU times: user 24.7 s, sys: 48 ms, total: 24.8 s\n",
      "Wall time: 26.1 s\n"
     ]
    }
   ],
   "source": [
    "%%time\n",
    "for file in files[0:100]:\n",
    "    #with dask.config.set({'array.chunk-size': '2 MiB'}):\n",
    "    ds1 = preproc(xr.open_dataset(file, chunks=10),)\n",
    "\n"
   ]
  },
  {
   "cell_type": "code",
   "execution_count": 18,
   "metadata": {},
   "outputs": [
    {
     "name": "stdout",
     "output_type": "stream",
     "text": [
      "xarray.Dataset {\n",
      "dimensions:\n",
      "\tN_LEVELS = 2000 ;\n",
      "\tN_PROF = 11988 ;\n",
      "\n",
      "variables:\n",
      "\tfloat64 CONFIG_MISSION_NUMBER(N_PROF) ;\n",
      "\t\tCONFIG_MISSION_NUMBER:conventions = 1...N, 1 : first complete mission ;\n",
      "\t\tCONFIG_MISSION_NUMBER:long_name = Unique number denoting the missions performed by the float ;\n",
      "\tfloat64 CYCLE_NUMBER(N_PROF) ;\n",
      "\t\tCYCLE_NUMBER:conventions = 0...N, 0 : launch cycle (if exists), 1 : first complete cycle ;\n",
      "\t\tCYCLE_NUMBER:long_name = Float cycle number ;\n",
      "\t|S2 DATA_CENTRE(N_PROF) ;\n",
      "\t\tDATA_CENTRE:conventions = Argo reference table 4 ;\n",
      "\t\tDATA_CENTRE:long_name = Data centre in charge of float data processing ;\n",
      "\t|S1 DATA_MODE(N_PROF) ;\n",
      "\t\tDATA_MODE:conventions = R : real time; D : delayed mode; A : real time with adjustment ;\n",
      "\t\tDATA_MODE:long_name = Delayed mode or real time data ;\n",
      "\t|S4 DATA_STATE_INDICATOR(N_PROF) ;\n",
      "\t\tDATA_STATE_INDICATOR:conventions = Argo reference table 6 ;\n",
      "\t\tDATA_STATE_INDICATOR:long_name = Degree of processing the data have passed through ;\n",
      "\t|S16 DATA_TYPE(N_PROF) ;\n",
      "\t\tDATA_TYPE:conventions = Argo reference table 1 ;\n",
      "\t\tDATA_TYPE:long_name = Data type ;\n",
      "\t|S14 DATE_CREATION(N_PROF) ;\n",
      "\t\tDATE_CREATION:conventions = YYYYMMDDHHMISS ;\n",
      "\t\tDATE_CREATION:long_name = Date of file creation ;\n",
      "\t|S14 DATE_UPDATE(N_PROF) ;\n",
      "\t\tDATE_UPDATE:conventions = YYYYMMDDHHMISS ;\n",
      "\t\tDATE_UPDATE:long_name = Date of update of this file ;\n",
      "\t|S32 DC_REFERENCE(N_PROF) ;\n",
      "\t\tDC_REFERENCE:conventions = Data centre convention ;\n",
      "\t\tDC_REFERENCE:long_name = Station unique identifier in data centre ;\n",
      "\t|S1 DIRECTION(N_PROF) ;\n",
      "\t\tDIRECTION:conventions = A: ascending profiles, D: descending profiles ;\n",
      "\t\tDIRECTION:long_name = Direction of the station profiles ;\n",
      "\t|S32 FIRMWARE_VERSION(N_PROF) ;\n",
      "\t\tFIRMWARE_VERSION:long_name = Instrument firmware version ;\n",
      "\t|S32 FLOAT_SERIAL_NO(N_PROF) ;\n",
      "\t\tFLOAT_SERIAL_NO:long_name = Serial number of the float ;\n",
      "\t|S4 FORMAT_VERSION(N_PROF) ;\n",
      "\t\tFORMAT_VERSION:long_name = File format version ;\n",
      "\t|S4 HANDBOOK_VERSION(N_PROF) ;\n",
      "\t\tHANDBOOK_VERSION:long_name = Data handbook version ;\n",
      "\tdatetime64[ns] JULD(N_PROF) ;\n",
      "\t\tJULD:axis = T ;\n",
      "\t\tJULD:conventions = Relative julian days with decimal part (as parts of day) ;\n",
      "\t\tJULD:long_name = Julian day (UTC) of the station relative to REFERENCE_DATE_TIME ;\n",
      "\t\tJULD:resolution = 0.0 ;\n",
      "\t\tJULD:standard_name = time ;\n",
      "\tdatetime64[ns] JULD_LOCATION(N_PROF) ;\n",
      "\t\tJULD_LOCATION:conventions = Relative julian days with decimal part (as parts of day) ;\n",
      "\t\tJULD_LOCATION:long_name = Julian day (UTC) of the location relative to REFERENCE_DATE_TIME ;\n",
      "\t\tJULD_LOCATION:resolution = 0.0 ;\n",
      "\t|S1 JULD_QC(N_PROF) ;\n",
      "\t\tJULD_QC:conventions = Argo reference table 2 ;\n",
      "\t\tJULD_QC:long_name = Quality on date and time ;\n",
      "\tfloat64 LATITUDE(N_PROF) ;\n",
      "\t\tLATITUDE:axis = Y ;\n",
      "\t\tLATITUDE:long_name = Latitude of the station, best estimate ;\n",
      "\t\tLATITUDE:standard_name = latitude ;\n",
      "\t\tLATITUDE:units = degree_north ;\n",
      "\t\tLATITUDE:valid_max = 90.0 ;\n",
      "\t\tLATITUDE:valid_min = -90.0 ;\n",
      "\tfloat64 LONGITUDE(N_PROF) ;\n",
      "\t\tLONGITUDE:axis = X ;\n",
      "\t\tLONGITUDE:long_name = Longitude of the station, best estimate ;\n",
      "\t\tLONGITUDE:standard_name = longitude ;\n",
      "\t\tLONGITUDE:units = degree_east ;\n",
      "\t\tLONGITUDE:valid_max = 180.0 ;\n",
      "\t\tLONGITUDE:valid_min = -180.0 ;\n",
      "\t|S64 PI_NAME(N_PROF) ;\n",
      "\t\tPI_NAME:long_name = Name of the principal investigator ;\n",
      "\t|S8 PLATFORM_NUMBER(N_PROF) ;\n",
      "\t\tPLATFORM_NUMBER:conventions = WMO float identifier : A9IIIII ;\n",
      "\t\tPLATFORM_NUMBER:long_name = Float unique identifier ;\n",
      "\t|S32 PLATFORM_TYPE(N_PROF) ;\n",
      "\t\tPLATFORM_TYPE:conventions = Argo reference table 23 ;\n",
      "\t\tPLATFORM_TYPE:long_name = Type of float ;\n",
      "\t|S8 POSITIONING_SYSTEM(N_PROF) ;\n",
      "\t\tPOSITIONING_SYSTEM:long_name = Positioning system ;\n",
      "\t|S1 POSITION_QC(N_PROF) ;\n",
      "\t\tPOSITION_QC:conventions = Argo reference table 2 ;\n",
      "\t\tPOSITION_QC:long_name = Quality on position (latitude and longitude) ;\n",
      "\tfloat64 PRES(N_PROF, N_LEVELS) ;\n",
      "\tfloat64 PRES_ADJUSTED(N_PROF, N_LEVELS) ;\n",
      "\tfloat64 PRES_ADJUSTED_ERROR(N_PROF, N_LEVELS) ;\n",
      "\t|S1 PRES_ADJUSTED_QC(N_PROF, N_LEVELS) ;\n",
      "\t|S1 PRES_QC(N_PROF, N_LEVELS) ;\n",
      "\t|S1 PROFILE_PRES_QC(N_PROF) ;\n",
      "\t\tPROFILE_PRES_QC:conventions = Argo reference table 2a ;\n",
      "\t\tPROFILE_PRES_QC:long_name = Global quality flag of PRES profile ;\n",
      "\t|S1 PROFILE_PSAL_QC(N_PROF) ;\n",
      "\t\tPROFILE_PSAL_QC:conventions = Argo reference table 2a ;\n",
      "\t\tPROFILE_PSAL_QC:long_name = Global quality flag of PSAL profile ;\n",
      "\t|S1 PROFILE_TEMP_QC(N_PROF) ;\n",
      "\t\tPROFILE_TEMP_QC:conventions = Argo reference table 2a ;\n",
      "\t\tPROFILE_TEMP_QC:long_name = Global quality flag of TEMP profile ;\n",
      "\t|S64 PROJECT_NAME(N_PROF) ;\n",
      "\t\tPROJECT_NAME:long_name = Name of the project ;\n",
      "\tfloat64 PSAL(N_PROF, N_LEVELS) ;\n",
      "\tfloat64 PSAL_ADJUSTED(N_PROF, N_LEVELS) ;\n",
      "\tfloat64 PSAL_ADJUSTED_ERROR(N_PROF, N_LEVELS) ;\n",
      "\t|S1 PSAL_ADJUSTED_QC(N_PROF, N_LEVELS) ;\n",
      "\t|S1 PSAL_QC(N_PROF, N_LEVELS) ;\n",
      "\t|S14 REFERENCE_DATE_TIME(N_PROF) ;\n",
      "\t\tREFERENCE_DATE_TIME:conventions = YYYYMMDDHHMISS ;\n",
      "\t\tREFERENCE_DATE_TIME:long_name = Date of reference for Julian days ;\n",
      "\tfloat64 TEMP(N_PROF, N_LEVELS) ;\n",
      "\tfloat64 TEMP_ADJUSTED(N_PROF, N_LEVELS) ;\n",
      "\tfloat64 TEMP_ADJUSTED_ERROR(N_PROF, N_LEVELS) ;\n",
      "\t|S1 TEMP_ADJUSTED_QC(N_PROF, N_LEVELS) ;\n",
      "\t|S1 TEMP_QC(N_PROF, N_LEVELS) ;\n",
      "\t|S256 VERTICAL_SAMPLING_SCHEME(N_PROF) ;\n",
      "\t\tVERTICAL_SAMPLING_SCHEME:conventions = Argo reference table 16 ;\n",
      "\t\tVERTICAL_SAMPLING_SCHEME:long_name = Vertical sampling scheme ;\n",
      "\t|S4 WMO_INST_TYPE(N_PROF) ;\n",
      "\t\tWMO_INST_TYPE:conventions = Argo reference table 8 ;\n",
      "\t\tWMO_INST_TYPE:long_name = Coded instrument type ;\n",
      "\n",
      "// global attributes:\n",
      "}"
     ]
    }
   ],
   "source": [
    "ds1 = xr.open_zarr(zarr_path)\n",
    "ds1.info()"
   ]
  },
  {
   "cell_type": "code",
   "execution_count": 63,
   "metadata": {},
   "outputs": [
    {
     "name": "stdout",
     "output_type": "stream",
     "text": [
      "'CONFIG_MISSION_NUMBER':'float64',\n",
      "'CYCLE_NUMBER':'float64',\n",
      "'DATA_CENTRE':'|S2',\n",
      "'DATA_MODE':'|S1',\n",
      "'DATA_STATE_INDICATOR':'|S4',\n",
      "'DC_REFERENCE':'|S32',\n",
      "'DIRECTION':'|S1',\n",
      "'FIRMWARE_VERSION':'|S32',\n",
      "'FLOAT_SERIAL_NO':'|S32',\n",
      "'JULD':'float64',\n",
      "'JULD_LOCATION':'float64',\n",
      "'JULD_QC':'|S1',\n",
      "'LATITUDE':'float64',\n",
      "'LONGITUDE':'float64',\n",
      "'PI_NAME':'|S64',\n",
      "'PLATFORM_NUMBER':'|S8',\n",
      "'PLATFORM_TYPE':'|S32',\n",
      "'POSITIONING_SYSTEM':'|S8',\n",
      "'POSITION_QC':'|S1',\n",
      "'PRES':'float64',\n",
      "'PRES_ADJUSTED':'float64',\n",
      "'PRES_ADJUSTED_ERROR':'float64',\n",
      "'PRES_ADJUSTED_QC':'|S1',\n",
      "'PRES_QC':'|S1',\n",
      "'PROFILE_PRES_QC':'|S1',\n",
      "'PROFILE_PSAL_QC':'|S1',\n",
      "'PROFILE_TEMP_QC':'|S1',\n",
      "'PROJECT_NAME':'|S64',\n",
      "'PSAL':'float64',\n",
      "'PSAL_ADJUSTED':'float64',\n",
      "'PSAL_ADJUSTED_ERROR':'float64',\n",
      "'PSAL_ADJUSTED_QC':'|S1',\n",
      "'PSAL_QC':'|S1',\n",
      "'TEMP':'float64',\n",
      "'TEMP_ADJUSTED':'float64',\n",
      "'TEMP_ADJUSTED_ERROR':'float64',\n",
      "'TEMP_ADJUSTED_QC':'|S1',\n",
      "'TEMP_QC':'|S1',\n",
      "'VERTICAL_SAMPLING_SCHEME':'|S256',\n",
      "'WMO_INST_TYPE':'|S4',\n"
     ]
    }
   ],
   "source": [
    "for key in [k for k in zarr_src.array_keys()]:\n",
    "    print('\\'%s\\':\\'%s\\',' % (key,zarr_dst[key].dtype))"
   ]
  },
  {
   "cell_type": "code",
   "execution_count": null,
   "metadata": {},
   "outputs": [],
   "source": []
  }
 ],
 "metadata": {
  "kernelspec": {
   "display_name": "Python 3",
   "language": "python",
   "name": "python3"
  },
  "language_info": {
   "codemirror_mode": {
    "name": "ipython",
    "version": 3
   },
   "file_extension": ".py",
   "mimetype": "text/x-python",
   "name": "python",
   "nbconvert_exporter": "python",
   "pygments_lexer": "ipython3",
   "version": "3.7.3"
  }
 },
 "nbformat": 4,
 "nbformat_minor": 2
}
